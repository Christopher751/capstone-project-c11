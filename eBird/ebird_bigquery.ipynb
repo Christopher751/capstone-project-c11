{
  "cells": [
    {
      "cell_type": "markdown",
      "metadata": {
        "id": "view-in-github",
        "colab_type": "text"
      },
      "source": [
        "<a href=\"https://colab.research.google.com/github/rwcitek/C11-capstone-project/blob/main/eBird/ebird_bigquery.ipynb\" target=\"_parent\"><img src=\"https://colab.research.google.com/assets/colab-badge.svg\" alt=\"Open In Colab\"/></a>"
      ]
    },
    {
      "cell_type": "markdown",
      "metadata": {
        "id": "AM5uZrN8Imh8"
      },
      "source": [
        "# Working with BigQuery\n"
      ]
    },
    {
      "cell_type": "markdown",
      "metadata": {
        "id": "DY4hwpI-ImiE"
      },
      "source": [
        "We'll see if this runs in CoLab.\n",
        "\n",
        "\n"
      ]
    },
    {
      "cell_type": "markdown",
      "metadata": {
        "id": "GHySBuSPImiH"
      },
      "source": [
        "### Set up the workspace\n"
      ]
    },
    {
      "cell_type": "code",
      "execution_count": 1,
      "metadata": {
        "id": "cwiGzn8SImiI"
      },
      "outputs": [],
      "source": [
        "!rm -rf data/\n"
      ]
    },
    {
      "cell_type": "code",
      "execution_count": 2,
      "metadata": {
        "id": "W4NxE99lImiL"
      },
      "outputs": [],
      "source": [
        "mkdir data"
      ]
    },
    {
      "cell_type": "code",
      "execution_count": 3,
      "metadata": {
        "id": "M9x5RjJyImiM",
        "outputId": "423d0151-3d7e-4098-b33d-a176efd6f196",
        "colab": {
          "base_uri": "https://localhost:8080/"
        }
      },
      "outputs": [
        {
          "output_type": "stream",
          "name": "stdout",
          "text": [
            "/content/data\n"
          ]
        }
      ],
      "source": [
        "cd data"
      ]
    },
    {
      "cell_type": "code",
      "execution_count": 4,
      "metadata": {
        "id": "1aRcch4jImiO",
        "outputId": "b9b38e20-ce7d-4c8d-915e-da0eabd0e31f",
        "colab": {
          "base_uri": "https://localhost:8080/",
          "height": 36
        }
      },
      "outputs": [
        {
          "output_type": "execute_result",
          "data": {
            "text/plain": [
              "'/content/data'"
            ],
            "application/vnd.google.colaboratory.intrinsic+json": {
              "type": "string"
            }
          },
          "metadata": {},
          "execution_count": 4
        }
      ],
      "source": [
        "pwd"
      ]
    },
    {
      "cell_type": "markdown",
      "metadata": {
        "id": "hrTn-5VPImiQ"
      },
      "source": [
        "### Download some sample data"
      ]
    },
    {
      "cell_type": "code",
      "source": [
        "%%capture output\n",
        "%%bash\n",
        "apt-get update\n",
        "apt-get install -y tree jq curl less"
      ],
      "metadata": {
        "id": "TrOPGUERJaPd",
        "outputId": "bcd6b651-3b01-4be0-c845-05cf6b5ae818",
        "colab": {
          "base_uri": "https://localhost:8080/"
        }
      },
      "execution_count": 5,
      "outputs": [
        {
          "output_type": "stream",
          "name": "stdout",
          "text": [
            "Hit:1 http://archive.ubuntu.com/ubuntu jammy InRelease\n",
            "Get:2 http://security.ubuntu.com/ubuntu jammy-security InRelease [110 kB]\n",
            "Get:3 http://archive.ubuntu.com/ubuntu jammy-updates InRelease [119 kB]\n",
            "Get:4 https://cloud.r-project.org/bin/linux/ubuntu jammy-cran40/ InRelease [3,626 B]\n",
            "Get:5 https://developer.download.nvidia.com/compute/cuda/repos/ubuntu2204/x86_64  InRelease [1,581 B]\n",
            "Hit:6 http://archive.ubuntu.com/ubuntu jammy-backports InRelease\n",
            "Hit:7 https://ppa.launchpadcontent.net/c2d4u.team/c2d4u4.0+/ubuntu jammy InRelease\n",
            "Hit:8 https://ppa.launchpadcontent.net/deadsnakes/ppa/ubuntu jammy InRelease\n",
            "Hit:9 https://ppa.launchpadcontent.net/graphics-drivers/ppa/ubuntu jammy InRelease\n",
            "Get:10 https://developer.download.nvidia.com/compute/cuda/repos/ubuntu2204/x86_64  Packages [631 kB]\n",
            "Hit:11 https://ppa.launchpadcontent.net/ubuntugis/ppa/ubuntu jammy InRelease\n",
            "Get:12 http://security.ubuntu.com/ubuntu jammy-security/restricted amd64 Packages [1,456 kB]\n",
            "Get:13 http://archive.ubuntu.com/ubuntu jammy-updates/universe amd64 Packages [1,281 kB]\n",
            "Get:14 http://security.ubuntu.com/ubuntu jammy-security/universe amd64 Packages [1,013 kB]\n",
            "Get:15 http://security.ubuntu.com/ubuntu jammy-security/main amd64 Packages [1,240 kB]\n",
            "Get:16 http://archive.ubuntu.com/ubuntu jammy-updates/restricted amd64 Packages [1,487 kB]\n",
            "Get:17 http://archive.ubuntu.com/ubuntu jammy-updates/main amd64 Packages [1,512 kB]\n",
            "Fetched 8,856 kB in 2s (4,454 kB/s)\n",
            "Reading package lists...\n",
            "Reading package lists...\n",
            "Building dependency tree...\n",
            "Reading state information...\n",
            "curl is already the newest version (7.81.0-1ubuntu1.14).\n",
            "less is already the newest version (590-1ubuntu0.22.04.1).\n",
            "The following NEW packages will be installed:\n",
            "  jq libjq1 libonig5 tree\n",
            "0 upgraded, 4 newly installed, 0 to remove and 15 not upgraded.\n",
            "Need to get 405 kB of archives.\n",
            "After this operation, 1,203 kB of additional disk space will be used.\n",
            "Get:1 http://archive.ubuntu.com/ubuntu jammy/main amd64 libonig5 amd64 6.9.7.1-2build1 [172 kB]\n",
            "Get:2 http://archive.ubuntu.com/ubuntu jammy/main amd64 libjq1 amd64 1.6-2.1ubuntu3 [133 kB]\n",
            "Get:3 http://archive.ubuntu.com/ubuntu jammy/main amd64 jq amd64 1.6-2.1ubuntu3 [52.5 kB]\n",
            "Get:4 http://archive.ubuntu.com/ubuntu jammy/universe amd64 tree amd64 2.0.2-1 [47.9 kB]\n",
            "Fetched 405 kB in 0s (1,671 kB/s)\n",
            "Selecting previously unselected package libonig5:amd64.\r\n",
            "(Reading database ... \r(Reading database ... 5%\r(Reading database ... 10%\r(Reading database ... 15%\r(Reading database ... 20%\r(Reading database ... 25%\r(Reading database ... 30%\r(Reading database ... 35%\r(Reading database ... 40%\r(Reading database ... 45%\r(Reading database ... 50%\r(Reading database ... 55%\r(Reading database ... 60%\r(Reading database ... 65%\r(Reading database ... 70%\r(Reading database ... 75%\r(Reading database ... 80%\r(Reading database ... 85%\r(Reading database ... 90%\r(Reading database ... 95%\r(Reading database ... 100%\r(Reading database ... 120880 files and directories currently installed.)\r\n",
            "Preparing to unpack .../libonig5_6.9.7.1-2build1_amd64.deb ...\r\n",
            "Unpacking libonig5:amd64 (6.9.7.1-2build1) ...\r\n",
            "Selecting previously unselected package libjq1:amd64.\r\n",
            "Preparing to unpack .../libjq1_1.6-2.1ubuntu3_amd64.deb ...\r\n",
            "Unpacking libjq1:amd64 (1.6-2.1ubuntu3) ...\r\n",
            "Selecting previously unselected package jq.\r\n",
            "Preparing to unpack .../jq_1.6-2.1ubuntu3_amd64.deb ...\r\n",
            "Unpacking jq (1.6-2.1ubuntu3) ...\r\n",
            "Selecting previously unselected package tree.\r\n",
            "Preparing to unpack .../tree_2.0.2-1_amd64.deb ...\r\n",
            "Unpacking tree (2.0.2-1) ...\r\n",
            "Setting up tree (2.0.2-1) ...\r\n",
            "Setting up libonig5:amd64 (6.9.7.1-2build1) ...\r\n",
            "Setting up libjq1:amd64 (1.6-2.1ubuntu3) ...\r\n",
            "Setting up jq (1.6-2.1ubuntu3) ...\r\n",
            "Processing triggers for man-db (2.10.2-1) ...\r\n",
            "Processing triggers for libc-bin (2.35-0ubuntu3.4) ...\r\n",
            "/sbin/ldconfig.real: /usr/local/lib/libtbbbind_2_5.so.3 is not a symbolic link\r\n",
            "\r\n",
            "/sbin/ldconfig.real: /usr/local/lib/libtbbmalloc.so.2 is not a symbolic link\r\n",
            "\r\n",
            "/sbin/ldconfig.real: /usr/local/lib/libtbbmalloc_proxy.so.2 is not a symbolic link\r\n",
            "\r\n",
            "/sbin/ldconfig.real: /usr/local/lib/libtbbbind_2_0.so.3 is not a symbolic link\r\n",
            "\r\n",
            "/sbin/ldconfig.real: /usr/local/lib/libtbb.so.12 is not a symbolic link\r\n",
            "\r\n",
            "/sbin/ldconfig.real: /usr/local/lib/libtbbbind.so.3 is not a symbolic link\r\n",
            "\r\n"
          ]
        }
      ]
    },
    {
      "cell_type": "code",
      "execution_count": 6,
      "metadata": {
        "colab": {
          "base_uri": "https://localhost:8080/"
        },
        "id": "LXs6VybegWWS",
        "outputId": "ce06e133-f25e-4f62-9a8a-b290e4223b85"
      },
      "outputs": [
        {
          "output_type": "stream",
          "name": "stdout",
          "text": [
            "  % Total    % Received % Xferd  Average Speed   Time    Time     Time  Current\n",
            "                                 Dload  Upload   Total   Spent    Left  Speed\n",
            "100  455k  100  455k    0     0   792k      0 --:--:-- --:--:-- --:--:--  792k\n"
          ]
        }
      ],
      "source": [
        "!curl -O 'https://ebird.org/downloads/samples/ebd-datafile-SAMPLE.zip'"
      ]
    },
    {
      "cell_type": "code",
      "execution_count": 7,
      "metadata": {
        "colab": {
          "base_uri": "https://localhost:8080/"
        },
        "id": "4no_aqTRp5hb",
        "outputId": "b7140a37-ec4a-4cc5-d465-24f13b65322e"
      },
      "outputs": [
        {
          "output_type": "stream",
          "name": "stdout",
          "text": [
            "total 464\n",
            "drwxr-xr-x 2 root root   4096 Nov 21 23:10 .\n",
            "drwxr-xr-x 1 root root   4096 Nov 21 23:10 ..\n",
            "-rw-r--r-- 1 root root 466849 Nov 21 23:10 ebd-datafile-SAMPLE.zip\n"
          ]
        }
      ],
      "source": [
        "!ls -la\n"
      ]
    },
    {
      "cell_type": "code",
      "execution_count": 8,
      "metadata": {
        "colab": {
          "base_uri": "https://localhost:8080/"
        },
        "id": "hDtH2NTRp80r",
        "outputId": "d4df09f8-6423-4ad5-960c-ccd30926fad4"
      },
      "outputs": [
        {
          "output_type": "stream",
          "name": "stdout",
          "text": [
            "Archive:  ebd-datafile-SAMPLE.zip\n",
            "   creating: ebd_US-AL-101_202204_202204_relApr-2022_SAMPLE/\n",
            "  inflating: __MACOSX/._ebd_US-AL-101_202204_202204_relApr-2022_SAMPLE  \n",
            "  inflating: ebd_US-AL-101_202204_202204_relApr-2022_SAMPLE/ebd_US-AL-101_202204_202204_relApr-2022.txt  \n",
            "  inflating: __MACOSX/ebd_US-AL-101_202204_202204_relApr-2022_SAMPLE/._ebd_US-AL-101_202204_202204_relApr-2022.txt  \n",
            "  inflating: ebd_US-AL-101_202204_202204_relApr-2022_SAMPLE/terms_of_use.txt  \n",
            "  inflating: __MACOSX/ebd_US-AL-101_202204_202204_relApr-2022_SAMPLE/._terms_of_use.txt  \n",
            "  inflating: ebd_US-AL-101_202204_202204_relApr-2022_SAMPLE/BCRCodes.txt  \n",
            "  inflating: __MACOSX/ebd_US-AL-101_202204_202204_relApr-2022_SAMPLE/._BCRCodes.txt  \n",
            "  inflating: ebd_US-AL-101_202204_202204_relApr-2022_SAMPLE/eBird_Basic_Dataset_Metadata_v1.14.pdf  \n",
            "  inflating: __MACOSX/ebd_US-AL-101_202204_202204_relApr-2022_SAMPLE/._eBird_Basic_Dataset_Metadata_v1.14.pdf  \n",
            "  inflating: ebd_US-AL-101_202204_202204_relApr-2022_SAMPLE/IBACodes.txt  \n",
            "  inflating: __MACOSX/ebd_US-AL-101_202204_202204_relApr-2022_SAMPLE/._IBACodes.txt  \n",
            "  inflating: ebd_US-AL-101_202204_202204_relApr-2022_SAMPLE/USFWSCodes.txt  \n",
            "  inflating: __MACOSX/ebd_US-AL-101_202204_202204_relApr-2022_SAMPLE/._USFWSCodes.txt  \n",
            "  inflating: ebd_US-AL-101_202204_202204_relApr-2022_SAMPLE/recommended_citation.txt  \n",
            "  inflating: __MACOSX/ebd_US-AL-101_202204_202204_relApr-2022_SAMPLE/._recommended_citation.txt  \n"
          ]
        }
      ],
      "source": [
        "!unzip ebd-datafile-SAMPLE.zip"
      ]
    },
    {
      "cell_type": "code",
      "execution_count": 9,
      "metadata": {
        "colab": {
          "base_uri": "https://localhost:8080/"
        },
        "id": "jjIQ-je-qdod",
        "outputId": "fc620208-a4ef-4c20-ab87-2ed012dd948c"
      },
      "outputs": [
        {
          "output_type": "stream",
          "name": "stdout",
          "text": [
            "total 472\n",
            "drwxr-xr-x 4 root root   4096 Nov 21 23:10 .\n",
            "drwxr-xr-x 1 root root   4096 Nov 21 23:10 ..\n",
            "-rw-r--r-- 1 root root 466849 Nov 21 23:10 ebd-datafile-SAMPLE.zip\n",
            "drwxr-xr-x 2 root root   4096 Jun  8  2022 ebd_US-AL-101_202204_202204_relApr-2022_SAMPLE\n",
            "drwxr-xr-x 3 root root   4096 Nov 21 23:10 __MACOSX\n"
          ]
        }
      ],
      "source": [
        "!ls -la\n"
      ]
    },
    {
      "cell_type": "code",
      "execution_count": 10,
      "metadata": {
        "id": "epYhdl4Gqeym"
      },
      "outputs": [],
      "source": [
        "!rm -rf __MACOSX/"
      ]
    },
    {
      "cell_type": "code",
      "execution_count": 11,
      "metadata": {
        "colab": {
          "base_uri": "https://localhost:8080/"
        },
        "id": "qjIxoEqNqh2w",
        "outputId": "961c1a4f-feb9-4351-bfdc-443fb729e476"
      },
      "outputs": [
        {
          "output_type": "stream",
          "name": "stdout",
          "text": [
            "\u001b[01;34mebd_US-AL-101_202204_202204_relApr-2022_SAMPLE/\u001b[0m\n",
            "├── \u001b[01;32mBCRCodes.txt\u001b[0m\n",
            "├── \u001b[00mebd_US-AL-101_202204_202204_relApr-2022.txt\u001b[0m\n",
            "├── \u001b[00meBird_Basic_Dataset_Metadata_v1.14.pdf\u001b[0m\n",
            "├── \u001b[01;32mIBACodes.txt\u001b[0m\n",
            "├── \u001b[01;32mrecommended_citation.txt\u001b[0m\n",
            "├── \u001b[00mterms_of_use.txt\u001b[0m\n",
            "└── \u001b[01;32mUSFWSCodes.txt\u001b[0m\n",
            "\n",
            "0 directories, 7 files\n"
          ]
        }
      ],
      "source": [
        "!tree ebd_US-AL-101_202204_202204_relApr-2022_SAMPLE/\n"
      ]
    },
    {
      "cell_type": "code",
      "execution_count": 12,
      "metadata": {
        "colab": {
          "base_uri": "https://localhost:8080/"
        },
        "id": "7KSoBvbDq_fA",
        "outputId": "1b2b161e-175e-49a3-d009-564c8195126d"
      },
      "outputs": [
        {
          "output_type": "stream",
          "name": "stdout",
          "text": [
            "1400 ebd_US-AL-101_202204_202204_relApr-2022_SAMPLE/ebd_US-AL-101_202204_202204_relApr-2022.txt\n"
          ]
        }
      ],
      "source": [
        "%%bash\n",
        "wc -l ebd_US-AL-101_202204_202204_relApr-2022_SAMPLE/ebd_US-AL-101_202204_202204_relApr-2022.txt\n"
      ]
    },
    {
      "cell_type": "markdown",
      "source": [
        "## Set up Google Cloud Platform"
      ],
      "metadata": {
        "id": "fyPxc1MMKHEB"
      }
    },
    {
      "cell_type": "code",
      "source": [
        "from google.colab import auth\n",
        "auth.authenticate_user()\n",
        "print('Authenticated')"
      ],
      "metadata": {
        "id": "9rn3InqxKKUD",
        "outputId": "8e722984-6375-44ee-cbdb-a5b462e532e3",
        "colab": {
          "base_uri": "https://localhost:8080/"
        }
      },
      "execution_count": 15,
      "outputs": [
        {
          "output_type": "stream",
          "name": "stdout",
          "text": [
            "Authenticated\n"
          ]
        }
      ]
    },
    {
      "cell_type": "code",
      "source": [
        "import os\n",
        "project_id = \"default-256400\"\n",
        "os.environ[\"GOOGLE_CLOUD_PROJECT\"] = project_id\n"
      ],
      "metadata": {
        "id": "2kcJMvTVbeb1"
      },
      "execution_count": 73,
      "outputs": []
    },
    {
      "cell_type": "markdown",
      "source": [
        "## Need to create a *bucket*"
      ],
      "metadata": {
        "id": "zXelL_8BKkPX"
      }
    },
    {
      "cell_type": "markdown",
      "source": [
        "Go to https://console.cloud.google.com/storage/browser\n",
        "\n",
        "\n"
      ],
      "metadata": {
        "id": "ISJUjKBAKnwp"
      }
    },
    {
      "cell_type": "markdown",
      "source": [
        "Got a bucket:\n",
        "\n",
        "- https://console.cloud.google.com/storage/browser/c11-ebird;tab=objects?project=default-256400&prefix=&forceOnObjectsSortingFiltering=false"
      ],
      "metadata": {
        "id": "6qoBd4D1MxA2"
      }
    },
    {
      "cell_type": "markdown",
      "source": [
        "## Phase 1:\n",
        "\n"
      ],
      "metadata": {
        "id": "-EddwSAHfFbA"
      }
    },
    {
      "cell_type": "markdown",
      "source": [
        "1. upload the CSV file to GS\n",
        "1. import into BQ\n",
        "\n"
      ],
      "metadata": {
        "id": "q7cOWIxrf_a1"
      }
    },
    {
      "cell_type": "code",
      "source": [
        "file = 'ebd_US-AL-101_202204_202204_relApr-2022_SAMPLE/ebd_US-AL-101_202204_202204_relApr-2022.txt'\n"
      ],
      "metadata": {
        "id": "-bp9tHYEJwiL"
      },
      "execution_count": 21,
      "outputs": []
    },
    {
      "cell_type": "code",
      "source": [
        "!gcloud storage cp {file} gs://c11-ebird/"
      ],
      "metadata": {
        "colab": {
          "base_uri": "https://localhost:8080/"
        },
        "id": "R-gaMNVDNmF_",
        "outputId": "98a15157-9a5d-4245-eb40-c166690fc6bd"
      },
      "execution_count": 22,
      "outputs": [
        {
          "output_type": "stream",
          "name": "stdout",
          "text": [
            "Copying file://ebd_US-AL-101_202204_202204_relApr-2022_SAMPLE/ebd_US-AL-101_202204_202204_relApr-2022.txt to gs://c11-ebird/ebd_US-AL-101_202204_202204_relApr-2022.txt\n"
          ]
        }
      ]
    },
    {
      "cell_type": "code",
      "source": [
        "!gcloud storage ls -l gs://c11-ebird/"
      ],
      "metadata": {
        "colab": {
          "base_uri": "https://localhost:8080/"
        },
        "id": "QAe3QuxmJwfe",
        "outputId": "0eb5775b-e1f8-4491-aafd-4cc8a96ed05b"
      },
      "execution_count": 26,
      "outputs": [
        {
          "output_type": "stream",
          "name": "stdout",
          "text": [
            "    504698  2023-11-21T23:28:26Z  gs://c11-ebird/ebd_US-AL-101_202204_202204_relApr-2022.txt\n",
            "TOTAL: 1 objects, 504698 bytes (492.87kiB)\n"
          ]
        }
      ]
    },
    {
      "cell_type": "markdown",
      "source": [
        "### From web interface"
      ],
      "metadata": {
        "id": "zdWnWDtrgJMW"
      }
    },
    {
      "cell_type": "markdown",
      "source": [
        "Create a data set and import CSV to data set:\n",
        "\n",
        "- https://cloud.google.com/bigquery/docs/loading-data-cloud-storage-csv"
      ],
      "metadata": {
        "id": "LUZ5ZLajR42X"
      }
    },
    {
      "cell_type": "markdown",
      "source": [
        "### Repeat using bq command"
      ],
      "metadata": {
        "id": "7LmHdmfGSRxm"
      }
    },
    {
      "cell_type": "code",
      "source": [
        "!bq ls {project_id}:ebird"
      ],
      "metadata": {
        "colab": {
          "base_uri": "https://localhost:8080/"
        },
        "id": "ItOETiZCWcKL",
        "outputId": "0238e233-1124-40e9-ac35-5edb80ce2714"
      },
      "execution_count": 86,
      "outputs": [
        {
          "output_type": "stream",
          "name": "stdout",
          "text": [
            "    tableId     Type    Labels   Time Partitioning   Clustered Fields  \n",
            " ------------- ------- -------- ------------------- ------------------ \n",
            "  ebird_small   TABLE                                                  \n"
          ]
        }
      ]
    },
    {
      "cell_type": "code",
      "source": [
        "!bq rm -f {project_id}:ebird.ebird_small_2"
      ],
      "metadata": {
        "id": "X1GfXkqEd3WS"
      },
      "execution_count": 76,
      "outputs": []
    },
    {
      "cell_type": "code",
      "source": [
        "%%bash\n",
        "bq --project_id=${GOOGLE_CLOUD_PROJECT} \\\n",
        "  load \\\n",
        "  --source_format=CSV \\\n",
        "  --field_delimiter='\\t' \\\n",
        "  --autodetect \\\n",
        "  --skip_leading_rows=1 \\\n",
        "  ebird.ebird_small_2 \\\n",
        "  gs://c11-ebird/ebd_US-AL-101_202204_202204_relApr-2022.txt\n"
      ],
      "metadata": {
        "colab": {
          "base_uri": "https://localhost:8080/"
        },
        "id": "m84nmmyfJwbl",
        "outputId": "002b7dcf-fefa-45ca-b1f6-891453bcaf06"
      },
      "execution_count": 74,
      "outputs": [
        {
          "output_type": "stream",
          "name": "stderr",
          "text": [
            "\rWaiting on bqjob_r2c10e32fbe8bf2d0_0000018bf481da69_1 ... (0s) Current status: RUNNING\r                                                                                      \rWaiting on bqjob_r2c10e32fbe8bf2d0_0000018bf481da69_1 ... (1s) Current status: RUNNING\r                                                                                      \rWaiting on bqjob_r2c10e32fbe8bf2d0_0000018bf481da69_1 ... (1s) Current status: DONE   \n"
          ]
        }
      ]
    },
    {
      "cell_type": "code",
      "source": [
        "!bq ls {project_id}:ebird"
      ],
      "metadata": {
        "colab": {
          "base_uri": "https://localhost:8080/"
        },
        "id": "wJ9m7aQSgavu",
        "outputId": "5797f035-1d93-497b-b04c-f955cfdcb55e"
      },
      "execution_count": 75,
      "outputs": [
        {
          "output_type": "stream",
          "name": "stdout",
          "text": [
            "     tableId      Type    Labels   Time Partitioning   Clustered Fields  \n",
            " --------------- ------- -------- ------------------- ------------------ \n",
            "  ebird_small     TABLE                                                  \n",
            "  ebird_small_2   TABLE                                                  \n"
          ]
        }
      ]
    },
    {
      "cell_type": "markdown",
      "source": [
        "## Phase 2:\n"
      ],
      "metadata": {
        "id": "lkpoRxk3fybv"
      }
    },
    {
      "cell_type": "markdown",
      "source": [
        "1. compress the CSV file with gzip\n",
        "1. upload the compressed CSV file to GS\n",
        "1. import into BQ\n",
        "\n"
      ],
      "metadata": {
        "id": "h5CT6kNghaDk"
      }
    },
    {
      "cell_type": "code",
      "source": [
        "!ls -la {file}"
      ],
      "metadata": {
        "id": "Dy-jVWCUhs5w",
        "outputId": "3ffd8c74-80e2-495e-b7cd-e2d9fb6e369a",
        "colab": {
          "base_uri": "https://localhost:8080/"
        }
      },
      "execution_count": 78,
      "outputs": [
        {
          "output_type": "stream",
          "name": "stdout",
          "text": [
            "-rw-r--r-- 1 root root 504698 May 19  2022 ebd_US-AL-101_202204_202204_relApr-2022_SAMPLE/ebd_US-AL-101_202204_202204_relApr-2022.txt\n"
          ]
        }
      ]
    },
    {
      "cell_type": "code",
      "source": [
        "!gzip {file}"
      ],
      "metadata": {
        "id": "wK2pHlSchs2y"
      },
      "execution_count": 79,
      "outputs": []
    },
    {
      "cell_type": "code",
      "source": [
        "!ls -la {file}.gz\n"
      ],
      "metadata": {
        "id": "PsiKTqgqhsze",
        "outputId": "2e278349-5c8b-4520-fa7a-1f4a9345ba9c",
        "colab": {
          "base_uri": "https://localhost:8080/"
        }
      },
      "execution_count": 81,
      "outputs": [
        {
          "output_type": "stream",
          "name": "stdout",
          "text": [
            "-rw-r--r-- 1 root root 60011 May 19  2022 ebd_US-AL-101_202204_202204_relApr-2022_SAMPLE/ebd_US-AL-101_202204_202204_relApr-2022.txt.gz\n"
          ]
        }
      ]
    },
    {
      "cell_type": "code",
      "source": [
        "!gcloud storage cp {file}.gz gs://c11-ebird/"
      ],
      "metadata": {
        "outputId": "620d4abf-8467-4fda-c46b-aa73519d7679",
        "colab": {
          "base_uri": "https://localhost:8080/"
        },
        "id": "_Zm7mPkriFTs"
      },
      "execution_count": 82,
      "outputs": [
        {
          "output_type": "stream",
          "name": "stdout",
          "text": [
            "Copying file://ebd_US-AL-101_202204_202204_relApr-2022_SAMPLE/ebd_US-AL-101_202204_202204_relApr-2022.txt.gz to gs://c11-ebird/ebd_US-AL-101_202204_202204_relApr-2022.txt.gz\n"
          ]
        }
      ]
    },
    {
      "cell_type": "code",
      "source": [
        "!gcloud storage ls -l gs://c11-ebird/"
      ],
      "metadata": {
        "outputId": "7fcb11dc-ed40-4d93-e356-4a90767683da",
        "colab": {
          "base_uri": "https://localhost:8080/"
        },
        "id": "ZOUXwAYGiFT1"
      },
      "execution_count": 83,
      "outputs": [
        {
          "output_type": "stream",
          "name": "stdout",
          "text": [
            "    504698  2023-11-21T23:28:26Z  gs://c11-ebird/ebd_US-AL-101_202204_202204_relApr-2022.txt\n",
            "     60011  2023-11-22T00:57:52Z  gs://c11-ebird/ebd_US-AL-101_202204_202204_relApr-2022.txt.gz\n",
            "TOTAL: 2 objects, 564709 bytes (551.47kiB)\n"
          ]
        }
      ]
    },
    {
      "cell_type": "code",
      "source": [],
      "metadata": {
        "id": "QUyCl118h_My"
      },
      "execution_count": null,
      "outputs": []
    },
    {
      "cell_type": "code",
      "source": [
        "!bq ls {project_id}:ebird"
      ],
      "metadata": {
        "outputId": "62ab413f-08e3-47df-84c5-284efdc866c0",
        "colab": {
          "base_uri": "https://localhost:8080/"
        },
        "id": "IgzimhdQiR6U"
      },
      "execution_count": 87,
      "outputs": [
        {
          "output_type": "stream",
          "name": "stdout",
          "text": [
            "    tableId     Type    Labels   Time Partitioning   Clustered Fields  \n",
            " ------------- ------- -------- ------------------- ------------------ \n",
            "  ebird_small   TABLE                                                  \n"
          ]
        }
      ]
    },
    {
      "cell_type": "code",
      "source": [
        "!bq rm -f {project_id}:ebird.ebird_small_3"
      ],
      "metadata": {
        "id": "OEKCyir4iR6V"
      },
      "execution_count": 88,
      "outputs": []
    },
    {
      "cell_type": "code",
      "source": [
        "%%bash\n",
        "bq --project_id=${GOOGLE_CLOUD_PROJECT} \\\n",
        "  load \\\n",
        "  --source_format=CSV \\\n",
        "  --field_delimiter='\\t' \\\n",
        "  --autodetect \\\n",
        "  --skip_leading_rows=1 \\\n",
        "  ebird.ebird_small_3 \\\n",
        "  gs://c11-ebird/ebd_US-AL-101_202204_202204_relApr-2022.txt.gz\n"
      ],
      "metadata": {
        "outputId": "674e2528-bbff-415e-a5f1-149319b6e38d",
        "colab": {
          "base_uri": "https://localhost:8080/"
        },
        "id": "J8iY2pAqiR6W"
      },
      "execution_count": 89,
      "outputs": [
        {
          "output_type": "stream",
          "name": "stderr",
          "text": [
            "\rWaiting on bqjob_r610c656fefcded4c_0000018bf48bc0f5_1 ... (0s) Current status: RUNNING\r                                                                                      \rWaiting on bqjob_r610c656fefcded4c_0000018bf48bc0f5_1 ... (1s) Current status: RUNNING\r                                                                                      \rWaiting on bqjob_r610c656fefcded4c_0000018bf48bc0f5_1 ... (1s) Current status: DONE   \n"
          ]
        }
      ]
    },
    {
      "cell_type": "code",
      "source": [
        "!bq ls {project_id}:ebird"
      ],
      "metadata": {
        "outputId": "24bd44a0-6eb7-469a-c98b-5d18ef9b6691",
        "colab": {
          "base_uri": "https://localhost:8080/"
        },
        "id": "USt0zMNwiR6W"
      },
      "execution_count": 90,
      "outputs": [
        {
          "output_type": "stream",
          "name": "stdout",
          "text": [
            "     tableId      Type    Labels   Time Partitioning   Clustered Fields  \n",
            " --------------- ------- -------- ------------------- ------------------ \n",
            "  ebird_small     TABLE                                                  \n",
            "  ebird_small_3   TABLE                                                  \n"
          ]
        }
      ]
    },
    {
      "cell_type": "code",
      "source": [
        "!bq rm -f {project_id}:ebird.ebird_small_3"
      ],
      "metadata": {
        "id": "5MsELpPQh-4Z"
      },
      "execution_count": 91,
      "outputs": []
    },
    {
      "cell_type": "code",
      "source": [
        "!bq ls {project_id}:ebird"
      ],
      "metadata": {
        "id": "FDRM80n7h-1P",
        "outputId": "bb08c8cd-9b73-43ac-e9a4-02c362edf71f",
        "colab": {
          "base_uri": "https://localhost:8080/"
        }
      },
      "execution_count": 92,
      "outputs": [
        {
          "output_type": "stream",
          "name": "stdout",
          "text": [
            "    tableId     Type    Labels   Time Partitioning   Clustered Fields  \n",
            " ------------- ------- -------- ------------------- ------------------ \n",
            "  ebird_small   TABLE                                                  \n"
          ]
        }
      ]
    },
    {
      "cell_type": "markdown",
      "source": [
        "## Phase 3:\n"
      ],
      "metadata": {
        "id": "juoFayQ5hTTc"
      }
    },
    {
      "cell_type": "markdown",
      "source": [
        "1. compress the CSV file with gzip\n",
        "1. create a tar file with the compressed CSV file\n",
        "1. untar and stream the compressed CSV file to GS\n",
        "1. import into BQ\n",
        "\n"
      ],
      "metadata": {
        "id": "9IBXXzOnhYH5"
      }
    },
    {
      "cell_type": "code",
      "source": [],
      "metadata": {
        "id": "ztY2o2P2jM_w"
      },
      "execution_count": null,
      "outputs": []
    },
    {
      "cell_type": "code",
      "source": [],
      "metadata": {
        "id": "miLiwAL8jM5e"
      },
      "execution_count": null,
      "outputs": []
    },
    {
      "cell_type": "code",
      "source": [],
      "metadata": {
        "id": "iM6em1d2jMyt"
      },
      "execution_count": null,
      "outputs": []
    },
    {
      "cell_type": "code",
      "source": [],
      "metadata": {
        "id": "dWfSlurujMsE"
      },
      "execution_count": null,
      "outputs": []
    },
    {
      "cell_type": "code",
      "source": [],
      "metadata": {
        "id": "3FKcLBsajMky"
      },
      "execution_count": null,
      "outputs": []
    },
    {
      "cell_type": "code",
      "source": [],
      "metadata": {
        "id": "t5ceOZAfjMdl"
      },
      "execution_count": null,
      "outputs": []
    },
    {
      "cell_type": "markdown",
      "source": [
        "## Phase 4:\n",
        "\n"
      ],
      "metadata": {
        "id": "0BUllyQBhU54"
      }
    },
    {
      "cell_type": "markdown",
      "source": [
        "1. compress the CSV file with gzip\n",
        "1. create a tar file with the compressed CSV file\n",
        "1. upload the tar file to DO's object store\n",
        "1. get, untar, and stream the compressed CSV file to GS\n",
        "1. import into BQ\n"
      ],
      "metadata": {
        "id": "INxRHU9UhWoX"
      }
    },
    {
      "cell_type": "code",
      "source": [],
      "metadata": {
        "id": "WYrFoDfPJwYi"
      },
      "execution_count": null,
      "outputs": []
    },
    {
      "cell_type": "code",
      "source": [],
      "metadata": {
        "id": "OTHerrp1JwVF"
      },
      "execution_count": null,
      "outputs": []
    },
    {
      "cell_type": "code",
      "source": [],
      "metadata": {
        "id": "5c0oOoEgJwRz"
      },
      "execution_count": null,
      "outputs": []
    },
    {
      "cell_type": "code",
      "source": [],
      "metadata": {
        "id": "Z0_CX-olJwOb"
      },
      "execution_count": null,
      "outputs": []
    }
  ],
  "metadata": {
    "colab": {
      "provenance": [],
      "toc_visible": true,
      "include_colab_link": true
    },
    "kernelspec": {
      "display_name": "Python 3",
      "name": "python3"
    },
    "language_info": {
      "codemirror_mode": {
        "name": "ipython",
        "version": 3
      },
      "file_extension": ".py",
      "mimetype": "text/x-python",
      "name": "python",
      "nbconvert_exporter": "python",
      "pygments_lexer": "ipython3",
      "version": "3.10.8"
    }
  },
  "nbformat": 4,
  "nbformat_minor": 0
}