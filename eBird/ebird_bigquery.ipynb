{
  "cells": [
    {
      "cell_type": "markdown",
      "metadata": {
        "id": "view-in-github",
        "colab_type": "text"
      },
      "source": [
        "<a href=\"https://colab.research.google.com/github/rwcitek/C11-capstone-project/blob/main/eBird/ebird_bigquery.ipynb\" target=\"_parent\"><img src=\"https://colab.research.google.com/assets/colab-badge.svg\" alt=\"Open In Colab\"/></a>"
      ]
    },
    {
      "cell_type": "markdown",
      "metadata": {
        "id": "AM5uZrN8Imh8"
      },
      "source": [
        "# Working with BigQuery\n"
      ]
    },
    {
      "cell_type": "markdown",
      "metadata": {
        "id": "DY4hwpI-ImiE"
      },
      "source": [
        "We'll see if this runs in CoLab.\n",
        "\n",
        "\n"
      ]
    },
    {
      "cell_type": "markdown",
      "metadata": {
        "id": "GHySBuSPImiH"
      },
      "source": [
        "### Set up the workspace\n"
      ]
    },
    {
      "cell_type": "code",
      "execution_count": 1,
      "metadata": {
        "id": "cwiGzn8SImiI"
      },
      "outputs": [],
      "source": [
        "!rm -rf data/\n"
      ]
    },
    {
      "cell_type": "code",
      "execution_count": 4,
      "metadata": {
        "id": "W4NxE99lImiL",
        "outputId": "51d9722c-82b0-4fcb-9550-d85bdb26a341",
        "colab": {
          "base_uri": "https://localhost:8080/"
        }
      },
      "outputs": [
        {
          "output_type": "stream",
          "name": "stdout",
          "text": [
            "mkdir: cannot create directory ‘data’: File exists\n"
          ]
        }
      ],
      "source": [
        "mkdir data"
      ]
    },
    {
      "cell_type": "code",
      "execution_count": 5,
      "metadata": {
        "id": "M9x5RjJyImiM",
        "outputId": "57dfa40e-3915-4911-c5d4-ca30e1fc5eca",
        "colab": {
          "base_uri": "https://localhost:8080/"
        }
      },
      "outputs": [
        {
          "output_type": "stream",
          "name": "stdout",
          "text": [
            "/content/data\n"
          ]
        }
      ],
      "source": [
        "cd data"
      ]
    },
    {
      "cell_type": "code",
      "execution_count": 6,
      "metadata": {
        "id": "1aRcch4jImiO",
        "outputId": "5d860b45-bde3-4d88-b91c-e10dca52d02e",
        "colab": {
          "base_uri": "https://localhost:8080/",
          "height": 36
        }
      },
      "outputs": [
        {
          "output_type": "execute_result",
          "data": {
            "text/plain": [
              "'/content/data'"
            ],
            "application/vnd.google.colaboratory.intrinsic+json": {
              "type": "string"
            }
          },
          "metadata": {},
          "execution_count": 6
        }
      ],
      "source": [
        "pwd"
      ]
    },
    {
      "cell_type": "markdown",
      "metadata": {
        "id": "hrTn-5VPImiQ"
      },
      "source": [
        "### Download some sample data"
      ]
    },
    {
      "cell_type": "code",
      "source": [
        "%%capture output\n",
        "%%bash\n",
        "apt-get update\n",
        "apt-get install -y tree jq curl less"
      ],
      "metadata": {
        "id": "TrOPGUERJaPd"
      },
      "execution_count": 7,
      "outputs": []
    },
    {
      "cell_type": "code",
      "execution_count": 8,
      "metadata": {
        "colab": {
          "base_uri": "https://localhost:8080/"
        },
        "id": "LXs6VybegWWS",
        "outputId": "f1859cb8-9658-448d-c804-42e5be3cd0a5"
      },
      "outputs": [
        {
          "output_type": "stream",
          "name": "stdout",
          "text": [
            "  % Total    % Received % Xferd  Average Speed   Time    Time     Time  Current\n",
            "                                 Dload  Upload   Total   Spent    Left  Speed\n",
            "100  455k  100  455k    0     0   813k      0 --:--:-- --:--:-- --:--:--  812k\n"
          ]
        }
      ],
      "source": [
        "!curl -O 'https://ebird.org/downloads/samples/ebd-datafile-SAMPLE.zip'"
      ]
    },
    {
      "cell_type": "code",
      "execution_count": 9,
      "metadata": {
        "colab": {
          "base_uri": "https://localhost:8080/"
        },
        "id": "4no_aqTRp5hb",
        "outputId": "d1d2f0d3-92cc-480e-a6e4-b5a0e80f7f3e"
      },
      "outputs": [
        {
          "output_type": "stream",
          "name": "stdout",
          "text": [
            "total 464\n",
            "drwxr-xr-x 2 root root   4096 Nov 22 06:23 .\n",
            "drwxr-xr-x 1 root root   4096 Nov 22 06:22 ..\n",
            "-rw-r--r-- 1 root root 466849 Nov 22 06:23 ebd-datafile-SAMPLE.zip\n"
          ]
        }
      ],
      "source": [
        "!ls -la\n"
      ]
    },
    {
      "cell_type": "code",
      "execution_count": 10,
      "metadata": {
        "colab": {
          "base_uri": "https://localhost:8080/"
        },
        "id": "hDtH2NTRp80r",
        "outputId": "4125018f-afd3-40e6-ef8f-1368a6c6f8f3"
      },
      "outputs": [
        {
          "output_type": "stream",
          "name": "stdout",
          "text": [
            "Archive:  ebd-datafile-SAMPLE.zip\n",
            "   creating: ebd_US-AL-101_202204_202204_relApr-2022_SAMPLE/\n",
            "  inflating: __MACOSX/._ebd_US-AL-101_202204_202204_relApr-2022_SAMPLE  \n",
            "  inflating: ebd_US-AL-101_202204_202204_relApr-2022_SAMPLE/ebd_US-AL-101_202204_202204_relApr-2022.txt  \n",
            "  inflating: __MACOSX/ebd_US-AL-101_202204_202204_relApr-2022_SAMPLE/._ebd_US-AL-101_202204_202204_relApr-2022.txt  \n",
            "  inflating: ebd_US-AL-101_202204_202204_relApr-2022_SAMPLE/terms_of_use.txt  \n",
            "  inflating: __MACOSX/ebd_US-AL-101_202204_202204_relApr-2022_SAMPLE/._terms_of_use.txt  \n",
            "  inflating: ebd_US-AL-101_202204_202204_relApr-2022_SAMPLE/BCRCodes.txt  \n",
            "  inflating: __MACOSX/ebd_US-AL-101_202204_202204_relApr-2022_SAMPLE/._BCRCodes.txt  \n",
            "  inflating: ebd_US-AL-101_202204_202204_relApr-2022_SAMPLE/eBird_Basic_Dataset_Metadata_v1.14.pdf  \n",
            "  inflating: __MACOSX/ebd_US-AL-101_202204_202204_relApr-2022_SAMPLE/._eBird_Basic_Dataset_Metadata_v1.14.pdf  \n",
            "  inflating: ebd_US-AL-101_202204_202204_relApr-2022_SAMPLE/IBACodes.txt  \n",
            "  inflating: __MACOSX/ebd_US-AL-101_202204_202204_relApr-2022_SAMPLE/._IBACodes.txt  \n",
            "  inflating: ebd_US-AL-101_202204_202204_relApr-2022_SAMPLE/USFWSCodes.txt  \n",
            "  inflating: __MACOSX/ebd_US-AL-101_202204_202204_relApr-2022_SAMPLE/._USFWSCodes.txt  \n",
            "  inflating: ebd_US-AL-101_202204_202204_relApr-2022_SAMPLE/recommended_citation.txt  \n",
            "  inflating: __MACOSX/ebd_US-AL-101_202204_202204_relApr-2022_SAMPLE/._recommended_citation.txt  \n"
          ]
        }
      ],
      "source": [
        "!unzip ebd-datafile-SAMPLE.zip"
      ]
    },
    {
      "cell_type": "code",
      "execution_count": 11,
      "metadata": {
        "colab": {
          "base_uri": "https://localhost:8080/"
        },
        "id": "jjIQ-je-qdod",
        "outputId": "9802656f-c574-4a95-ce67-477930f8da6d"
      },
      "outputs": [
        {
          "output_type": "stream",
          "name": "stdout",
          "text": [
            "total 472\n",
            "drwxr-xr-x 4 root root   4096 Nov 22 06:23 .\n",
            "drwxr-xr-x 1 root root   4096 Nov 22 06:22 ..\n",
            "-rw-r--r-- 1 root root 466849 Nov 22 06:23 ebd-datafile-SAMPLE.zip\n",
            "drwxr-xr-x 2 root root   4096 Jun  8  2022 ebd_US-AL-101_202204_202204_relApr-2022_SAMPLE\n",
            "drwxr-xr-x 3 root root   4096 Nov 22 06:23 __MACOSX\n"
          ]
        }
      ],
      "source": [
        "!ls -la\n"
      ]
    },
    {
      "cell_type": "code",
      "execution_count": 12,
      "metadata": {
        "id": "epYhdl4Gqeym"
      },
      "outputs": [],
      "source": [
        "!rm -rf __MACOSX/"
      ]
    },
    {
      "cell_type": "code",
      "execution_count": 13,
      "metadata": {
        "colab": {
          "base_uri": "https://localhost:8080/"
        },
        "id": "qjIxoEqNqh2w",
        "outputId": "c035bc36-7e25-4e67-d1ab-f6eccb53807a"
      },
      "outputs": [
        {
          "output_type": "stream",
          "name": "stdout",
          "text": [
            "\u001b[01;34mebd_US-AL-101_202204_202204_relApr-2022_SAMPLE/\u001b[0m\n",
            "├── \u001b[01;32mBCRCodes.txt\u001b[0m\n",
            "├── \u001b[00mebd_US-AL-101_202204_202204_relApr-2022.txt\u001b[0m\n",
            "├── \u001b[00meBird_Basic_Dataset_Metadata_v1.14.pdf\u001b[0m\n",
            "├── \u001b[01;32mIBACodes.txt\u001b[0m\n",
            "├── \u001b[01;32mrecommended_citation.txt\u001b[0m\n",
            "├── \u001b[00mterms_of_use.txt\u001b[0m\n",
            "└── \u001b[01;32mUSFWSCodes.txt\u001b[0m\n",
            "\n",
            "0 directories, 7 files\n"
          ]
        }
      ],
      "source": [
        "!tree ebd_US-AL-101_202204_202204_relApr-2022_SAMPLE/\n"
      ]
    },
    {
      "cell_type": "code",
      "execution_count": 14,
      "metadata": {
        "colab": {
          "base_uri": "https://localhost:8080/"
        },
        "id": "7KSoBvbDq_fA",
        "outputId": "b7a1037f-0d66-4548-d51d-52cb564c974b"
      },
      "outputs": [
        {
          "output_type": "stream",
          "name": "stdout",
          "text": [
            "1400 ebd_US-AL-101_202204_202204_relApr-2022_SAMPLE/ebd_US-AL-101_202204_202204_relApr-2022.txt\n"
          ]
        }
      ],
      "source": [
        "%%bash\n",
        "wc -l ebd_US-AL-101_202204_202204_relApr-2022_SAMPLE/ebd_US-AL-101_202204_202204_relApr-2022.txt\n"
      ]
    },
    {
      "cell_type": "markdown",
      "source": [
        "## Set up Google Cloud Platform"
      ],
      "metadata": {
        "id": "fyPxc1MMKHEB"
      }
    },
    {
      "cell_type": "code",
      "source": [
        "from google.colab import auth\n",
        "auth.authenticate_user()\n",
        "print('Authenticated')"
      ],
      "metadata": {
        "id": "9rn3InqxKKUD",
        "outputId": "d776e2b1-96f4-47d0-a6d8-a43ba6d4a141",
        "colab": {
          "base_uri": "https://localhost:8080/"
        }
      },
      "execution_count": 15,
      "outputs": [
        {
          "output_type": "stream",
          "name": "stdout",
          "text": [
            "Authenticated\n"
          ]
        }
      ]
    },
    {
      "cell_type": "code",
      "source": [
        "import os\n",
        "project_id = \"default-256400\"\n",
        "os.environ[\"GOOGLE_CLOUD_PROJECT\"] = project_id\n"
      ],
      "metadata": {
        "id": "2kcJMvTVbeb1"
      },
      "execution_count": 16,
      "outputs": []
    },
    {
      "cell_type": "markdown",
      "source": [
        "## Need to create a *bucket*"
      ],
      "metadata": {
        "id": "zXelL_8BKkPX"
      }
    },
    {
      "cell_type": "markdown",
      "source": [
        "Go to https://console.cloud.google.com/storage/browser\n",
        "\n",
        "\n"
      ],
      "metadata": {
        "id": "ISJUjKBAKnwp"
      }
    },
    {
      "cell_type": "markdown",
      "source": [
        "Got a bucket:\n",
        "\n",
        "- https://console.cloud.google.com/storage/browser/c11-ebird;tab=objects?project=default-256400&prefix=&forceOnObjectsSortingFiltering=false"
      ],
      "metadata": {
        "id": "6qoBd4D1MxA2"
      }
    },
    {
      "cell_type": "markdown",
      "source": [
        "## Phase 1:\n",
        "\n"
      ],
      "metadata": {
        "id": "-EddwSAHfFbA"
      }
    },
    {
      "cell_type": "markdown",
      "source": [
        "1. upload the CSV file to GS\n",
        "1. import into BQ\n",
        "\n"
      ],
      "metadata": {
        "id": "q7cOWIxrf_a1"
      }
    },
    {
      "cell_type": "code",
      "source": [
        "file = 'ebd_US-AL-101_202204_202204_relApr-2022_SAMPLE/ebd_US-AL-101_202204_202204_relApr-2022.txt'\n"
      ],
      "metadata": {
        "id": "-bp9tHYEJwiL"
      },
      "execution_count": 17,
      "outputs": []
    },
    {
      "cell_type": "code",
      "source": [
        "!gcloud storage cp {file} gs://c11-ebird/"
      ],
      "metadata": {
        "colab": {
          "base_uri": "https://localhost:8080/"
        },
        "id": "R-gaMNVDNmF_",
        "outputId": "98a15157-9a5d-4245-eb40-c166690fc6bd"
      },
      "execution_count": null,
      "outputs": [
        {
          "output_type": "stream",
          "name": "stdout",
          "text": [
            "Copying file://ebd_US-AL-101_202204_202204_relApr-2022_SAMPLE/ebd_US-AL-101_202204_202204_relApr-2022.txt to gs://c11-ebird/ebd_US-AL-101_202204_202204_relApr-2022.txt\n"
          ]
        }
      ]
    },
    {
      "cell_type": "code",
      "source": [
        "!gcloud storage ls -l gs://c11-ebird/"
      ],
      "metadata": {
        "colab": {
          "base_uri": "https://localhost:8080/"
        },
        "id": "QAe3QuxmJwfe",
        "outputId": "15524e89-51a4-4301-d1fb-a89fc3f9592e"
      },
      "execution_count": 41,
      "outputs": [
        {
          "output_type": "stream",
          "name": "stdout",
          "text": [
            "    504698  2023-11-21T23:28:26Z  gs://c11-ebird/ebd_US-AL-101_202204_202204_relApr-2022.txt\n",
            "     60011  2023-11-22T00:57:52Z  gs://c11-ebird/ebd_US-AL-101_202204_202204_relApr-2022.txt.gz\n",
            "TOTAL: 2 objects, 564709 bytes (551.47kiB)\n"
          ]
        }
      ]
    },
    {
      "cell_type": "markdown",
      "source": [
        "### From web interface"
      ],
      "metadata": {
        "id": "zdWnWDtrgJMW"
      }
    },
    {
      "cell_type": "markdown",
      "source": [
        "Create a data set and import CSV to data set:\n",
        "\n",
        "- https://cloud.google.com/bigquery/docs/loading-data-cloud-storage-csv"
      ],
      "metadata": {
        "id": "LUZ5ZLajR42X"
      }
    },
    {
      "cell_type": "markdown",
      "source": [
        "### Repeat using bq command"
      ],
      "metadata": {
        "id": "7LmHdmfGSRxm"
      }
    },
    {
      "cell_type": "code",
      "source": [
        "!bq ls {project_id}:ebird"
      ],
      "metadata": {
        "colab": {
          "base_uri": "https://localhost:8080/"
        },
        "id": "ItOETiZCWcKL",
        "outputId": "0238e233-1124-40e9-ac35-5edb80ce2714"
      },
      "execution_count": null,
      "outputs": [
        {
          "output_type": "stream",
          "name": "stdout",
          "text": [
            "    tableId     Type    Labels   Time Partitioning   Clustered Fields  \n",
            " ------------- ------- -------- ------------------- ------------------ \n",
            "  ebird_small   TABLE                                                  \n"
          ]
        }
      ]
    },
    {
      "cell_type": "code",
      "source": [
        "!bq rm -f {project_id}:ebird.ebird_small_2"
      ],
      "metadata": {
        "id": "X1GfXkqEd3WS"
      },
      "execution_count": null,
      "outputs": []
    },
    {
      "cell_type": "code",
      "source": [
        "%%bash\n",
        "bq --project_id=${GOOGLE_CLOUD_PROJECT} \\\n",
        "  load \\\n",
        "  --source_format=CSV \\\n",
        "  --field_delimiter='\\t' \\\n",
        "  --autodetect \\\n",
        "  --skip_leading_rows=1 \\\n",
        "  ebird.ebird_small_2 \\\n",
        "  gs://c11-ebird/ebd_US-AL-101_202204_202204_relApr-2022.txt\n"
      ],
      "metadata": {
        "colab": {
          "base_uri": "https://localhost:8080/"
        },
        "id": "m84nmmyfJwbl",
        "outputId": "002b7dcf-fefa-45ca-b1f6-891453bcaf06"
      },
      "execution_count": null,
      "outputs": [
        {
          "output_type": "stream",
          "name": "stderr",
          "text": [
            "\rWaiting on bqjob_r2c10e32fbe8bf2d0_0000018bf481da69_1 ... (0s) Current status: RUNNING\r                                                                                      \rWaiting on bqjob_r2c10e32fbe8bf2d0_0000018bf481da69_1 ... (1s) Current status: RUNNING\r                                                                                      \rWaiting on bqjob_r2c10e32fbe8bf2d0_0000018bf481da69_1 ... (1s) Current status: DONE   \n"
          ]
        }
      ]
    },
    {
      "cell_type": "code",
      "source": [
        "!bq ls {project_id}:ebird"
      ],
      "metadata": {
        "colab": {
          "base_uri": "https://localhost:8080/"
        },
        "id": "wJ9m7aQSgavu",
        "outputId": "5797f035-1d93-497b-b04c-f955cfdcb55e"
      },
      "execution_count": null,
      "outputs": [
        {
          "output_type": "stream",
          "name": "stdout",
          "text": [
            "     tableId      Type    Labels   Time Partitioning   Clustered Fields  \n",
            " --------------- ------- -------- ------------------- ------------------ \n",
            "  ebird_small     TABLE                                                  \n",
            "  ebird_small_2   TABLE                                                  \n"
          ]
        }
      ]
    },
    {
      "cell_type": "markdown",
      "source": [
        "## Phase 2:\n"
      ],
      "metadata": {
        "id": "lkpoRxk3fybv"
      }
    },
    {
      "cell_type": "markdown",
      "source": [
        "1. compress the CSV file with gzip\n",
        "1. upload the compressed CSV file to GS\n",
        "1. import into BQ\n",
        "\n"
      ],
      "metadata": {
        "id": "h5CT6kNghaDk"
      }
    },
    {
      "cell_type": "code",
      "source": [
        "!ls -la {file}"
      ],
      "metadata": {
        "id": "Dy-jVWCUhs5w",
        "outputId": "3ffd8c74-80e2-495e-b7cd-e2d9fb6e369a",
        "colab": {
          "base_uri": "https://localhost:8080/"
        }
      },
      "execution_count": null,
      "outputs": [
        {
          "output_type": "stream",
          "name": "stdout",
          "text": [
            "-rw-r--r-- 1 root root 504698 May 19  2022 ebd_US-AL-101_202204_202204_relApr-2022_SAMPLE/ebd_US-AL-101_202204_202204_relApr-2022.txt\n"
          ]
        }
      ]
    },
    {
      "cell_type": "code",
      "source": [
        "!gzip {file}"
      ],
      "metadata": {
        "id": "wK2pHlSchs2y"
      },
      "execution_count": 20,
      "outputs": []
    },
    {
      "cell_type": "code",
      "source": [
        "!ls -la {file}.gz\n"
      ],
      "metadata": {
        "id": "PsiKTqgqhsze",
        "outputId": "966f2e52-cd27-4cb1-8ce6-f4e6cc8010c1",
        "colab": {
          "base_uri": "https://localhost:8080/"
        }
      },
      "execution_count": 21,
      "outputs": [
        {
          "output_type": "stream",
          "name": "stdout",
          "text": [
            "-rw-r--r-- 1 root root 60011 May 19  2022 ebd_US-AL-101_202204_202204_relApr-2022_SAMPLE/ebd_US-AL-101_202204_202204_relApr-2022.txt.gz\n"
          ]
        }
      ]
    },
    {
      "cell_type": "code",
      "source": [
        "!gcloud storage cp {file}.gz gs://c11-ebird/"
      ],
      "metadata": {
        "outputId": "620d4abf-8467-4fda-c46b-aa73519d7679",
        "colab": {
          "base_uri": "https://localhost:8080/"
        },
        "id": "_Zm7mPkriFTs"
      },
      "execution_count": null,
      "outputs": [
        {
          "output_type": "stream",
          "name": "stdout",
          "text": [
            "Copying file://ebd_US-AL-101_202204_202204_relApr-2022_SAMPLE/ebd_US-AL-101_202204_202204_relApr-2022.txt.gz to gs://c11-ebird/ebd_US-AL-101_202204_202204_relApr-2022.txt.gz\n"
          ]
        }
      ]
    },
    {
      "cell_type": "code",
      "source": [
        "!gcloud storage ls -l gs://c11-ebird/"
      ],
      "metadata": {
        "outputId": "7fcb11dc-ed40-4d93-e356-4a90767683da",
        "colab": {
          "base_uri": "https://localhost:8080/"
        },
        "id": "ZOUXwAYGiFT1"
      },
      "execution_count": null,
      "outputs": [
        {
          "output_type": "stream",
          "name": "stdout",
          "text": [
            "    504698  2023-11-21T23:28:26Z  gs://c11-ebird/ebd_US-AL-101_202204_202204_relApr-2022.txt\n",
            "     60011  2023-11-22T00:57:52Z  gs://c11-ebird/ebd_US-AL-101_202204_202204_relApr-2022.txt.gz\n",
            "TOTAL: 2 objects, 564709 bytes (551.47kiB)\n"
          ]
        }
      ]
    },
    {
      "cell_type": "code",
      "source": [],
      "metadata": {
        "id": "QUyCl118h_My"
      },
      "execution_count": null,
      "outputs": []
    },
    {
      "cell_type": "code",
      "source": [
        "!bq ls {project_id}:ebird"
      ],
      "metadata": {
        "outputId": "62ab413f-08e3-47df-84c5-284efdc866c0",
        "colab": {
          "base_uri": "https://localhost:8080/"
        },
        "id": "IgzimhdQiR6U"
      },
      "execution_count": null,
      "outputs": [
        {
          "output_type": "stream",
          "name": "stdout",
          "text": [
            "    tableId     Type    Labels   Time Partitioning   Clustered Fields  \n",
            " ------------- ------- -------- ------------------- ------------------ \n",
            "  ebird_small   TABLE                                                  \n"
          ]
        }
      ]
    },
    {
      "cell_type": "code",
      "source": [
        "!bq rm -f {project_id}:ebird.ebird_small_3"
      ],
      "metadata": {
        "id": "OEKCyir4iR6V"
      },
      "execution_count": null,
      "outputs": []
    },
    {
      "cell_type": "code",
      "source": [
        "%%bash\n",
        "bq --project_id=${GOOGLE_CLOUD_PROJECT} \\\n",
        "  load \\\n",
        "  --source_format=CSV \\\n",
        "  --field_delimiter='\\t' \\\n",
        "  --autodetect \\\n",
        "  --skip_leading_rows=1 \\\n",
        "  ebird.ebird_small_3 \\\n",
        "  gs://c11-ebird/ebd_US-AL-101_202204_202204_relApr-2022.txt.gz\n"
      ],
      "metadata": {
        "outputId": "674e2528-bbff-415e-a5f1-149319b6e38d",
        "colab": {
          "base_uri": "https://localhost:8080/"
        },
        "id": "J8iY2pAqiR6W"
      },
      "execution_count": null,
      "outputs": [
        {
          "output_type": "stream",
          "name": "stderr",
          "text": [
            "\rWaiting on bqjob_r610c656fefcded4c_0000018bf48bc0f5_1 ... (0s) Current status: RUNNING\r                                                                                      \rWaiting on bqjob_r610c656fefcded4c_0000018bf48bc0f5_1 ... (1s) Current status: RUNNING\r                                                                                      \rWaiting on bqjob_r610c656fefcded4c_0000018bf48bc0f5_1 ... (1s) Current status: DONE   \n"
          ]
        }
      ]
    },
    {
      "cell_type": "code",
      "source": [
        "!bq ls {project_id}:ebird"
      ],
      "metadata": {
        "outputId": "24bd44a0-6eb7-469a-c98b-5d18ef9b6691",
        "colab": {
          "base_uri": "https://localhost:8080/"
        },
        "id": "USt0zMNwiR6W"
      },
      "execution_count": null,
      "outputs": [
        {
          "output_type": "stream",
          "name": "stdout",
          "text": [
            "     tableId      Type    Labels   Time Partitioning   Clustered Fields  \n",
            " --------------- ------- -------- ------------------- ------------------ \n",
            "  ebird_small     TABLE                                                  \n",
            "  ebird_small_3   TABLE                                                  \n"
          ]
        }
      ]
    },
    {
      "cell_type": "code",
      "source": [
        "!bq rm -f {project_id}:ebird.ebird_small_3"
      ],
      "metadata": {
        "id": "5MsELpPQh-4Z"
      },
      "execution_count": null,
      "outputs": []
    },
    {
      "cell_type": "code",
      "source": [
        "!bq ls {project_id}:ebird"
      ],
      "metadata": {
        "id": "FDRM80n7h-1P",
        "outputId": "bb08c8cd-9b73-43ac-e9a4-02c362edf71f",
        "colab": {
          "base_uri": "https://localhost:8080/"
        }
      },
      "execution_count": null,
      "outputs": [
        {
          "output_type": "stream",
          "name": "stdout",
          "text": [
            "    tableId     Type    Labels   Time Partitioning   Clustered Fields  \n",
            " ------------- ------- -------- ------------------- ------------------ \n",
            "  ebird_small   TABLE                                                  \n"
          ]
        }
      ]
    },
    {
      "cell_type": "markdown",
      "source": [
        "## Phase 3:\n"
      ],
      "metadata": {
        "id": "juoFayQ5hTTc"
      }
    },
    {
      "cell_type": "markdown",
      "source": [
        "1. compress the CSV file with gzip\n",
        "1. create a tar file with the compressed CSV file\n",
        "1. untar and stream the compressed CSV file to GS\n",
        "1. import into BQ\n",
        "\n"
      ],
      "metadata": {
        "id": "9IBXXzOnhYH5"
      }
    },
    {
      "cell_type": "code",
      "source": [
        "!ls -la {file}.gz"
      ],
      "metadata": {
        "id": "ztY2o2P2jM_w",
        "outputId": "5c4c7ea0-e1c2-438b-b453-7a1a99afc030",
        "colab": {
          "base_uri": "https://localhost:8080/"
        }
      },
      "execution_count": 28,
      "outputs": [
        {
          "output_type": "stream",
          "name": "stdout",
          "text": [
            "-rw-r--r-- 1 root root 60011 May 19  2022 ebd_US-AL-101_202204_202204_relApr-2022_SAMPLE/ebd_US-AL-101_202204_202204_relApr-2022.txt.gz\n"
          ]
        }
      ]
    },
    {
      "cell_type": "markdown",
      "source": [
        "Create the tar file"
      ],
      "metadata": {
        "id": "U50wz-0wxiFw"
      }
    },
    {
      "cell_type": "code",
      "source": [
        "path, file1 = file.split(\"/\")"
      ],
      "metadata": {
        "id": "AWMQd3BHxFgs"
      },
      "execution_count": 35,
      "outputs": []
    },
    {
      "cell_type": "code",
      "source": [
        "!tar -cvf example.tar -C {path} {file1}.gz"
      ],
      "metadata": {
        "id": "miLiwAL8jM5e",
        "outputId": "4383615d-41b1-4853-8203-bffb345b2c77",
        "colab": {
          "base_uri": "https://localhost:8080/"
        }
      },
      "execution_count": 38,
      "outputs": [
        {
          "output_type": "stream",
          "name": "stdout",
          "text": [
            "ebd_US-AL-101_202204_202204_relApr-2022.txt.gz\n"
          ]
        }
      ]
    },
    {
      "cell_type": "code",
      "source": [
        "!ls -la\n"
      ],
      "metadata": {
        "id": "iM6em1d2jMyt",
        "outputId": "fc4d6219-0b91-47fd-9c8e-7fdb05c0cd4e",
        "colab": {
          "base_uri": "https://localhost:8080/"
        }
      },
      "execution_count": 39,
      "outputs": [
        {
          "output_type": "stream",
          "name": "stdout",
          "text": [
            "total 544\n",
            "drwxr-xr-x 3 root root   4096 Nov 22 06:37 .\n",
            "drwxr-xr-x 1 root root   4096 Nov 22 06:22 ..\n",
            "-rw-r--r-- 1 root root 466849 Nov 22 06:23 ebd-datafile-SAMPLE.zip\n",
            "drwxr-xr-x 2 root root   4096 Nov 22 06:25 ebd_US-AL-101_202204_202204_relApr-2022_SAMPLE\n",
            "-rw-r--r-- 1 root root  71680 Nov 22 06:44 example.tar\n"
          ]
        }
      ]
    },
    {
      "cell_type": "code",
      "source": [
        "!tar -tvf example.tar"
      ],
      "metadata": {
        "id": "dWfSlurujMsE",
        "outputId": "b094fbaf-1fc7-400a-fad8-af94750cd5ed",
        "colab": {
          "base_uri": "https://localhost:8080/"
        }
      },
      "execution_count": 40,
      "outputs": [
        {
          "output_type": "stream",
          "name": "stdout",
          "text": [
            "-rw-r--r-- root/root     60011 2022-05-19 17:35 ebd_US-AL-101_202204_202204_relApr-2022.txt.gz\n"
          ]
        }
      ]
    },
    {
      "cell_type": "markdown",
      "source": [
        "Untar and stream to GS."
      ],
      "metadata": {
        "id": "pCO8FB5SxraG"
      }
    },
    {
      "cell_type": "code",
      "source": [
        "!gcloud storage ls -l gs://c11-ebird/\n"
      ],
      "metadata": {
        "id": "64uFFbMZy28e",
        "outputId": "279dc502-3eae-48fc-b6b4-09414b52725f",
        "colab": {
          "base_uri": "https://localhost:8080/"
        }
      },
      "execution_count": 42,
      "outputs": [
        {
          "output_type": "stream",
          "name": "stdout",
          "text": [
            "    504698  2023-11-21T23:28:26Z  gs://c11-ebird/ebd_US-AL-101_202204_202204_relApr-2022.txt\n",
            "     60011  2023-11-22T00:57:52Z  gs://c11-ebird/ebd_US-AL-101_202204_202204_relApr-2022.txt.gz\n",
            "TOTAL: 2 objects, 564709 bytes (551.47kiB)\n"
          ]
        }
      ]
    },
    {
      "cell_type": "code",
      "source": [
        "%%bash\n",
        "tar -O -xf example.tar ebd_US-AL-101_202204_202204_relApr-2022.txt.gz |\n",
        "gcloud storage cp - gs://c11-ebird/ebd_US-AL-101_202204_202204_relApr-2022.txt.v02.gz\n",
        "\n"
      ],
      "metadata": {
        "id": "3FKcLBsajMky",
        "outputId": "5f24fc9a-6ae9-4a74-cb77-b47229de13ac",
        "colab": {
          "base_uri": "https://localhost:8080/"
        }
      },
      "execution_count": 43,
      "outputs": [
        {
          "output_type": "stream",
          "name": "stderr",
          "text": [
            "WARNING: Using sequential instead of parallel task execution to transfer from stdin.\n",
            "Copying file://- to gs://c11-ebird/ebd_US-AL-101_202204_202204_relApr-2022.txt.v02.gz\n",
            "  \n",
            "......\n"
          ]
        }
      ]
    },
    {
      "cell_type": "code",
      "source": [
        "!gcloud storage ls -l gs://c11-ebird/"
      ],
      "metadata": {
        "colab": {
          "base_uri": "https://localhost:8080/"
        },
        "id": "MvBAWXIfy8y0",
        "outputId": "2a860db5-8a8b-4634-f3f0-5afa7272cd55"
      },
      "execution_count": 44,
      "outputs": [
        {
          "output_type": "stream",
          "name": "stdout",
          "text": [
            "    504698  2023-11-21T23:28:26Z  gs://c11-ebird/ebd_US-AL-101_202204_202204_relApr-2022.txt\n",
            "     60011  2023-11-22T00:57:52Z  gs://c11-ebird/ebd_US-AL-101_202204_202204_relApr-2022.txt.gz\n",
            "     60011  2023-11-22T06:51:04Z  gs://c11-ebird/ebd_US-AL-101_202204_202204_relApr-2022.txt.v02.gz\n",
            "TOTAL: 3 objects, 624720 bytes (610.08kiB)\n"
          ]
        }
      ]
    },
    {
      "cell_type": "code",
      "source": [],
      "metadata": {
        "id": "mK7UPGwzzPW8"
      },
      "execution_count": null,
      "outputs": []
    },
    {
      "cell_type": "code",
      "source": [
        "!bq ls {project_id}:ebird"
      ],
      "metadata": {
        "outputId": "90d1fe1c-5b08-4bef-a3a2-3deeb1ec7398",
        "colab": {
          "base_uri": "https://localhost:8080/"
        },
        "id": "ehd-Wit-zPqK"
      },
      "execution_count": 45,
      "outputs": [
        {
          "output_type": "stream",
          "name": "stdout",
          "text": [
            "    tableId     Type    Labels   Time Partitioning   Clustered Fields  \n",
            " ------------- ------- -------- ------------------- ------------------ \n",
            "  ebird_small   TABLE                                                  \n"
          ]
        }
      ]
    },
    {
      "cell_type": "code",
      "source": [
        "!bq rm -f {project_id}:ebird.ebird_small_4"
      ],
      "metadata": {
        "id": "_4ULmhzjzPqL"
      },
      "execution_count": 46,
      "outputs": []
    },
    {
      "cell_type": "code",
      "source": [
        "%%bash\n",
        "bq --project_id=${GOOGLE_CLOUD_PROJECT} \\\n",
        "  load \\\n",
        "  --source_format=CSV \\\n",
        "  --field_delimiter='\\t' \\\n",
        "  --autodetect \\\n",
        "  --skip_leading_rows=1 \\\n",
        "  ebird.ebird_small_4 \\\n",
        "  gs://c11-ebird/ebd_US-AL-101_202204_202204_relApr-2022.txt.v02.gz\n"
      ],
      "metadata": {
        "outputId": "cc3d6be8-18ab-4dc6-d596-8d156b592dc3",
        "colab": {
          "base_uri": "https://localhost:8080/"
        },
        "id": "SWu_0rdhzPqL"
      },
      "execution_count": 47,
      "outputs": [
        {
          "output_type": "stream",
          "name": "stderr",
          "text": [
            "\rWaiting on bqjob_r80dce339e5bf06_0000018bf5cd9540_1 ... (0s) Current status: RUNNING\r                                                                                    \rWaiting on bqjob_r80dce339e5bf06_0000018bf5cd9540_1 ... (1s) Current status: RUNNING\r                                                                                    \rWaiting on bqjob_r80dce339e5bf06_0000018bf5cd9540_1 ... (1s) Current status: DONE   \n"
          ]
        }
      ]
    },
    {
      "cell_type": "code",
      "source": [
        "!bq ls {project_id}:ebird"
      ],
      "metadata": {
        "outputId": "8debdbf0-bb3d-4f74-dbfd-871f143419ab",
        "colab": {
          "base_uri": "https://localhost:8080/"
        },
        "id": "L32BlbUgzPqM"
      },
      "execution_count": 48,
      "outputs": [
        {
          "output_type": "stream",
          "name": "stdout",
          "text": [
            "     tableId      Type    Labels   Time Partitioning   Clustered Fields  \n",
            " --------------- ------- -------- ------------------- ------------------ \n",
            "  ebird_small     TABLE                                                  \n",
            "  ebird_small_4   TABLE                                                  \n"
          ]
        }
      ]
    },
    {
      "cell_type": "code",
      "source": [
        "!bq show {project_id}:ebird.ebird_small"
      ],
      "metadata": {
        "id": "5SqDjpqkzmq1"
      },
      "execution_count": null,
      "outputs": []
    },
    {
      "cell_type": "code",
      "source": [
        "!bq show {project_id}:ebird.ebird_small_4"
      ],
      "metadata": {
        "id": "xcYmTkC0zgj_"
      },
      "execution_count": null,
      "outputs": []
    },
    {
      "cell_type": "code",
      "source": [
        "!bq rm -f {project_id}:ebird.ebird_small_4"
      ],
      "metadata": {
        "id": "1-mUDZh3zPqM"
      },
      "execution_count": 51,
      "outputs": []
    },
    {
      "cell_type": "markdown",
      "source": [
        "## Phase 4:\n",
        "\n"
      ],
      "metadata": {
        "id": "0BUllyQBhU54"
      }
    },
    {
      "cell_type": "markdown",
      "source": [
        "1. compress the CSV file with gzip\n",
        "1. create a tar file with the compressed CSV file\n",
        "1. upload the tar file to DO's object store\n",
        "1. get, untar, and stream the compressed CSV file to GS\n",
        "1. import into BQ\n"
      ],
      "metadata": {
        "id": "INxRHU9UhWoX"
      }
    },
    {
      "cell_type": "code",
      "source": [
        "!curl -I https://cnmi-ebird.sfo3.digitaloceanspaces.com/example.tar"
      ],
      "metadata": {
        "id": "WYrFoDfPJwYi",
        "outputId": "2df1bd91-f7fd-4830-d2a9-2559c3b91c85",
        "colab": {
          "base_uri": "https://localhost:8080/"
        }
      },
      "execution_count": 52,
      "outputs": [
        {
          "output_type": "stream",
          "name": "stdout",
          "text": [
            "HTTP/2 200 \r\n",
            "\u001b[1mcontent-length\u001b[0m: 71680\r\n",
            "\u001b[1maccept-ranges\u001b[0m: bytes\r\n",
            "\u001b[1mlast-modified\u001b[0m: Wed, 22 Nov 2023 06:55:56 GMT\r\n",
            "\u001b[1mx-rgw-object-type\u001b[0m: Normal\r\n",
            "\u001b[1metag\u001b[0m: \"fb5a9186a43fc4d150feb7bfff027363\"\r\n",
            "\u001b[1mx-amz-request-id\u001b[0m: tx000004c7bf6cb0b208cba-00655da61b-3c6f4933-sfo3a\r\n",
            "\u001b[1mcontent-type\u001b[0m: application/x-tar\r\n",
            "\u001b[1mdate\u001b[0m: Wed, 22 Nov 2023 06:56:27 GMT\r\n",
            "\u001b[1mvary\u001b[0m: Origin, Access-Control-Request-Headers, Access-Control-Request-Method\r\n",
            "\u001b[1mstrict-transport-security\u001b[0m: max-age=15552000; includeSubDomains; preload\r\n",
            "\u001b[1mx-envoy-upstream-healthchecked-cluster\u001b[0m: \r\n",
            "\r\n"
          ]
        }
      ]
    },
    {
      "cell_type": "code",
      "source": [
        "%%bash\n",
        "curl -s https://cnmi-ebird.sfo3.digitaloceanspaces.com/example.tar |\n",
        "tar -O -xf - ebd_US-AL-101_202204_202204_relApr-2022.txt.gz |\n",
        "dd bs=1M status=progress |\n",
        "gcloud storage cp - gs://c11-ebird/ebd_US-AL-101_202204_202204_relApr-2022.txt.v03.gz\n"
      ],
      "metadata": {
        "id": "OTHerrp1JwVF",
        "outputId": "9e68d73e-3d1e-4666-c1f4-67d7cf4ce8d8",
        "colab": {
          "base_uri": "https://localhost:8080/"
        }
      },
      "execution_count": 57,
      "outputs": [
        {
          "output_type": "stream",
          "name": "stderr",
          "text": [
            "0+3 records in\n",
            "0+3 records out\n",
            "60011 bytes (60 kB, 59 KiB) copied, 0.528014 s, 114 kB/s\n",
            "WARNING: Using sequential instead of parallel task execution to transfer from stdin.\n",
            "Copying file://- to gs://c11-ebird/ebd_US-AL-101_202204_202204_relApr-2022.txt.v03.gz\n",
            "  \n",
            ".....\n"
          ]
        }
      ]
    },
    {
      "cell_type": "code",
      "source": [],
      "metadata": {
        "id": "5c0oOoEgJwRz",
        "outputId": "57b109be-dbad-4a72-ab95-73ac2dc57f79",
        "colab": {
          "base_uri": "https://localhost:8080/"
        }
      },
      "execution_count": 56,
      "outputs": [
        {
          "output_type": "stream",
          "name": "stdout",
          "text": [
            "11100700672 bytes (11 GB, 10 GiB) copied, 25 s, 444 MB/s\n",
            "0+1751059 records in\n",
            "0+1751059 records out\n",
            "11479859200 bytes (11 GB, 11 GiB) copied, 25.8381 s, 444 MB/s\n",
            "^C\n"
          ]
        }
      ]
    },
    {
      "cell_type": "code",
      "source": [
        "!gcloud storage ls -l gs://c11-ebird/"
      ],
      "metadata": {
        "outputId": "5f656231-9990-4e38-d1d9-2748a8de2bed",
        "colab": {
          "base_uri": "https://localhost:8080/"
        },
        "id": "2Z8SI0e72JlO"
      },
      "execution_count": 58,
      "outputs": [
        {
          "output_type": "stream",
          "name": "stdout",
          "text": [
            "    504698  2023-11-21T23:28:26Z  gs://c11-ebird/ebd_US-AL-101_202204_202204_relApr-2022.txt\n",
            "     60011  2023-11-22T00:57:52Z  gs://c11-ebird/ebd_US-AL-101_202204_202204_relApr-2022.txt.gz\n",
            "     60011  2023-11-22T06:51:04Z  gs://c11-ebird/ebd_US-AL-101_202204_202204_relApr-2022.txt.v02.gz\n",
            "     60011  2023-11-22T07:04:01Z  gs://c11-ebird/ebd_US-AL-101_202204_202204_relApr-2022.txt.v03.gz\n",
            "TOTAL: 4 objects, 684731 bytes (668.68kiB)\n"
          ]
        }
      ]
    },
    {
      "cell_type": "code",
      "source": [],
      "metadata": {
        "id": "vhhxHTnF2Jlk"
      },
      "execution_count": null,
      "outputs": []
    },
    {
      "cell_type": "code",
      "source": [
        "!bq ls {project_id}:ebird"
      ],
      "metadata": {
        "outputId": "4d060bd3-c257-4929-e6a0-93a80da5e197",
        "colab": {
          "base_uri": "https://localhost:8080/"
        },
        "id": "Oe-U9kaP2Jll"
      },
      "execution_count": 59,
      "outputs": [
        {
          "output_type": "stream",
          "name": "stdout",
          "text": [
            "    tableId     Type    Labels   Time Partitioning   Clustered Fields  \n",
            " ------------- ------- -------- ------------------- ------------------ \n",
            "  ebird_small   TABLE                                                  \n"
          ]
        }
      ]
    },
    {
      "cell_type": "code",
      "source": [
        "!bq rm -f {project_id}:ebird.ebird_small_5"
      ],
      "metadata": {
        "id": "BEpFyZoA2Jln"
      },
      "execution_count": 60,
      "outputs": []
    },
    {
      "cell_type": "code",
      "source": [
        "%%bash\n",
        "bq --project_id=${GOOGLE_CLOUD_PROJECT} \\\n",
        "  load \\\n",
        "  --source_format=CSV \\\n",
        "  --field_delimiter='\\t' \\\n",
        "  --autodetect \\\n",
        "  --skip_leading_rows=1 \\\n",
        "  ebird.ebird_small_5 \\\n",
        "  gs://c11-ebird/ebd_US-AL-101_202204_202204_relApr-2022.txt.v03.gz\n"
      ],
      "metadata": {
        "outputId": "53105d6b-7eb2-429d-d275-24dcd5829e9b",
        "colab": {
          "base_uri": "https://localhost:8080/"
        },
        "id": "ZzlWgqj02Jln"
      },
      "execution_count": 61,
      "outputs": [
        {
          "output_type": "stream",
          "name": "stderr",
          "text": [
            "\rWaiting on bqjob_r5d684cc5be8246f8_0000018bf5d99405_1 ... (0s) Current status: RUNNING\r                                                                                      \rWaiting on bqjob_r5d684cc5be8246f8_0000018bf5d99405_1 ... (1s) Current status: RUNNING\r                                                                                      \rWaiting on bqjob_r5d684cc5be8246f8_0000018bf5d99405_1 ... (1s) Current status: DONE   \n"
          ]
        }
      ]
    },
    {
      "cell_type": "code",
      "source": [
        "!bq ls {project_id}:ebird"
      ],
      "metadata": {
        "outputId": "6f7108a9-f144-40e8-9517-4f6d2407ad8b",
        "colab": {
          "base_uri": "https://localhost:8080/"
        },
        "id": "PAn6WOEu2Jlo"
      },
      "execution_count": 69,
      "outputs": [
        {
          "output_type": "stream",
          "name": "stdout",
          "text": [
            "    tableId     Type    Labels   Time Partitioning   Clustered Fields  \n",
            " ------------- ------- -------- ------------------- ------------------ \n",
            "  ebird_small   TABLE                                                  \n"
          ]
        }
      ]
    },
    {
      "cell_type": "code",
      "source": [
        "!bq show {project_id}:ebird.ebird_small"
      ],
      "metadata": {
        "id": "z-FJlqY52Jlo",
        "outputId": "6ade549b-e79c-4a64-e185-9f3a783a06a5",
        "colab": {
          "base_uri": "https://localhost:8080/"
        }
      },
      "execution_count": 63,
      "outputs": [
        {
          "output_type": "stream",
          "name": "stdout",
          "text": [
            "Table default-256400:ebird.ebird_small\n",
            "\n",
            "   Last modified                   Schema                   Total Rows   Total Bytes   Expiration   Time Partitioning   Clustered Fields   Total Logical Bytes   Total Physical Bytes   Labels  \n",
            " ----------------- --------------------------------------- ------------ ------------- ------------ ------------------- ------------------ --------------------- ---------------------- -------- \n",
            "  21 Nov 23:41:57   |- GLOBAL_UNIQUE_IDENTIFIER: string     1399         534727                                                            534727                41452                          \n",
            "                    |- LAST_EDITED_DATE: timestamp                                                                                                                                              \n",
            "                    |- TAXONOMIC_ORDER: integer                                                                                                                                                 \n",
            "                    |- CATEGORY: string                                                                                                                                                         \n",
            "                    |- TAXON_CONCEPT_ID: string                                                                                                                                                 \n",
            "                    |- COMMON_NAME: string                                                                                                                                                      \n",
            "                    |- SCIENTIFIC_NAME: string                                                                                                                                                  \n",
            "                    |- SUBSPECIES_COMMON_NAME: string                                                                                                                                           \n",
            "                    |- SUBSPECIES_SCIENTIFIC_NAME: string                                                                                                                                       \n",
            "                    |- EXOTIC_CODE: boolean                                                                                                                                                     \n",
            "                    |- OBSERVATION_COUNT: integer                                                                                                                                               \n",
            "                    |- BREEDING_CODE: string                                                                                                                                                    \n",
            "                    |- BREEDING_CATEGORY: string                                                                                                                                                \n",
            "                    |- BEHAVIOR_CODE: string                                                                                                                                                    \n",
            "                    |- AGE_SEX: string                                                                                                                                                          \n",
            "                    |- COUNTRY: string                                                                                                                                                          \n",
            "                    |- COUNTRY_CODE: string                                                                                                                                                     \n",
            "                    |- STATE: string                                                                                                                                                            \n",
            "                    |- STATE_CODE: string                                                                                                                                                       \n",
            "                    |- COUNTY: string                                                                                                                                                           \n",
            "                    |- COUNTY_CODE: string                                                                                                                                                      \n",
            "                    |- IBA_CODE: string                                                                                                                                                         \n",
            "                    |- BCR_CODE: integer                                                                                                                                                        \n",
            "                    |- USFWS_CODE: string                                                                                                                                                       \n",
            "                    |- ATLAS_BLOCK: string                                                                                                                                                      \n",
            "                    |- LOCALITY: string                                                                                                                                                         \n",
            "                    |- LOCALITY_ID: string                                                                                                                                                      \n",
            "                    |- LOCALITY_TYPE: string                                                                                                                                                    \n",
            "                    |- LATITUDE: float                                                                                                                                                          \n",
            "                    |- LONGITUDE: float                                                                                                                                                         \n",
            "                    |- OBSERVATION_DATE: date                                                                                                                                                   \n",
            "                    |- TIME_OBSERVATIONS_STARTED: time                                                                                                                                          \n",
            "                    |- OBSERVER_ID: string                                                                                                                                                      \n",
            "                    |- SAMPLING_EVENT_IDENTIFIER: string                                                                                                                                        \n",
            "                    |- PROTOCOL_TYPE: string                                                                                                                                                    \n",
            "                    |- PROTOCOL_CODE: string                                                                                                                                                    \n",
            "                    |- PROJECT_CODE: string                                                                                                                                                     \n",
            "                    |- DURATION_MINUTES: integer                                                                                                                                                \n",
            "                    |- EFFORT_DISTANCE_KM: float                                                                                                                                                \n",
            "                    |- EFFORT_AREA_HA: string                                                                                                                                                   \n",
            "                    |- NUMBER_OBSERVERS: integer                                                                                                                                                \n",
            "                    |- ALL_SPECIES_REPORTED: integer                                                                                                                                            \n",
            "                    |- GROUP_IDENTIFIER: string                                                                                                                                                 \n",
            "                    |- HAS_MEDIA: integer                                                                                                                                                       \n",
            "                    |- APPROVED: integer                                                                                                                                                        \n",
            "                    |- REVIEWED: integer                                                                                                                                                        \n",
            "                    |- REASON: string                                                                                                                                                           \n",
            "                    |- TRIP_COMMENTS: string                                                                                                                                                    \n",
            "                    |- SPECIES_COMMENTS: string                                                                                                                                                 \n",
            "                    |- string_field_49: string                                                                                                                                                  \n",
            "\n"
          ]
        }
      ]
    },
    {
      "cell_type": "code",
      "source": [
        "!bq show {project_id}:ebird.ebird_small_5"
      ],
      "metadata": {
        "id": "_pce50XE2Jlo",
        "outputId": "5eeb9516-a852-4ff7-8d2a-5c03778ca685",
        "colab": {
          "base_uri": "https://localhost:8080/"
        }
      },
      "execution_count": 64,
      "outputs": [
        {
          "output_type": "stream",
          "name": "stdout",
          "text": [
            "Table default-256400:ebird.ebird_small_5\n",
            "\n",
            "   Last modified                   Schema                   Total Rows   Total Bytes   Expiration   Time Partitioning   Clustered Fields   Total Logical Bytes   Total Physical Bytes   Labels  \n",
            " ----------------- --------------------------------------- ------------ ------------- ------------ ------------------- ------------------ --------------------- ---------------------- -------- \n",
            "  22 Nov 07:06:00   |- GLOBAL_UNIQUE_IDENTIFIER: string     1399         534727                                                            534727                                               \n",
            "                    |- LAST_EDITED_DATE: timestamp                                                                                                                                              \n",
            "                    |- TAXONOMIC_ORDER: integer                                                                                                                                                 \n",
            "                    |- CATEGORY: string                                                                                                                                                         \n",
            "                    |- TAXON_CONCEPT_ID: string                                                                                                                                                 \n",
            "                    |- COMMON_NAME: string                                                                                                                                                      \n",
            "                    |- SCIENTIFIC_NAME: string                                                                                                                                                  \n",
            "                    |- SUBSPECIES_COMMON_NAME: string                                                                                                                                           \n",
            "                    |- SUBSPECIES_SCIENTIFIC_NAME: string                                                                                                                                       \n",
            "                    |- EXOTIC_CODE: boolean                                                                                                                                                     \n",
            "                    |- OBSERVATION_COUNT: integer                                                                                                                                               \n",
            "                    |- BREEDING_CODE: string                                                                                                                                                    \n",
            "                    |- BREEDING_CATEGORY: string                                                                                                                                                \n",
            "                    |- BEHAVIOR_CODE: string                                                                                                                                                    \n",
            "                    |- AGE_SEX: string                                                                                                                                                          \n",
            "                    |- COUNTRY: string                                                                                                                                                          \n",
            "                    |- COUNTRY_CODE: string                                                                                                                                                     \n",
            "                    |- STATE: string                                                                                                                                                            \n",
            "                    |- STATE_CODE: string                                                                                                                                                       \n",
            "                    |- COUNTY: string                                                                                                                                                           \n",
            "                    |- COUNTY_CODE: string                                                                                                                                                      \n",
            "                    |- IBA_CODE: string                                                                                                                                                         \n",
            "                    |- BCR_CODE: integer                                                                                                                                                        \n",
            "                    |- USFWS_CODE: string                                                                                                                                                       \n",
            "                    |- ATLAS_BLOCK: string                                                                                                                                                      \n",
            "                    |- LOCALITY: string                                                                                                                                                         \n",
            "                    |- LOCALITY_ID: string                                                                                                                                                      \n",
            "                    |- LOCALITY_TYPE: string                                                                                                                                                    \n",
            "                    |- LATITUDE: float                                                                                                                                                          \n",
            "                    |- LONGITUDE: float                                                                                                                                                         \n",
            "                    |- OBSERVATION_DATE: date                                                                                                                                                   \n",
            "                    |- TIME_OBSERVATIONS_STARTED: time                                                                                                                                          \n",
            "                    |- OBSERVER_ID: string                                                                                                                                                      \n",
            "                    |- SAMPLING_EVENT_IDENTIFIER: string                                                                                                                                        \n",
            "                    |- PROTOCOL_TYPE: string                                                                                                                                                    \n",
            "                    |- PROTOCOL_CODE: string                                                                                                                                                    \n",
            "                    |- PROJECT_CODE: string                                                                                                                                                     \n",
            "                    |- DURATION_MINUTES: integer                                                                                                                                                \n",
            "                    |- EFFORT_DISTANCE_KM: float                                                                                                                                                \n",
            "                    |- EFFORT_AREA_HA: string                                                                                                                                                   \n",
            "                    |- NUMBER_OBSERVERS: integer                                                                                                                                                \n",
            "                    |- ALL_SPECIES_REPORTED: integer                                                                                                                                            \n",
            "                    |- GROUP_IDENTIFIER: string                                                                                                                                                 \n",
            "                    |- HAS_MEDIA: integer                                                                                                                                                       \n",
            "                    |- APPROVED: integer                                                                                                                                                        \n",
            "                    |- REVIEWED: integer                                                                                                                                                        \n",
            "                    |- REASON: string                                                                                                                                                           \n",
            "                    |- TRIP_COMMENTS: string                                                                                                                                                    \n",
            "                    |- SPECIES_COMMENTS: string                                                                                                                                                 \n",
            "                    |- string_field_49: string                                                                                                                                                  \n",
            "\n"
          ]
        }
      ]
    },
    {
      "cell_type": "code",
      "source": [
        "!bq rm -f {project_id}:ebird.ebird_small_5"
      ],
      "metadata": {
        "id": "Mp3P828p2Jlp"
      },
      "execution_count": 65,
      "outputs": []
    },
    {
      "cell_type": "code",
      "source": [
        "!gcloud storage rm gs://c11-ebird/*.gz"
      ],
      "metadata": {
        "id": "Z0_CX-olJwOb",
        "outputId": "cc58cd93-534e-4248-8c6d-1e2e320287ca",
        "colab": {
          "base_uri": "https://localhost:8080/"
        }
      },
      "execution_count": 68,
      "outputs": [
        {
          "output_type": "stream",
          "name": "stdout",
          "text": [
            "Removing objects:\n",
            "Removing gs://c11-ebird/ebd_US-AL-101_202204_202204_relApr-2022.txt.gz...\n",
            "Removing gs://c11-ebird/ebd_US-AL-101_202204_202204_relApr-2022.txt.v02.gz...\n",
            "Removing gs://c11-ebird/ebd_US-AL-101_202204_202204_relApr-2022.txt.v03.gz...\n"
          ]
        }
      ]
    },
    {
      "cell_type": "code",
      "source": [],
      "metadata": {
        "id": "_kT9GE9a2nTf"
      },
      "execution_count": null,
      "outputs": []
    },
    {
      "cell_type": "markdown",
      "source": [
        "## Transfer 5GB eBird file"
      ],
      "metadata": {
        "id": "ZKym86xM24BH"
      }
    },
    {
      "cell_type": "code",
      "source": [
        "%%bash\n",
        "curl -s https://cnmi-ebird.sfo3.digitaloceanspaces.com/ebd_sampling_relSep-2023.tar |\n",
        "dd bs=1M status=progress |\n",
        "tar -tvf -\n"
      ],
      "metadata": {
        "id": "fzTvi1OD28lu",
        "outputId": "39517cfa-3022-4dfa-8682-a5e7a5321ad1",
        "colab": {
          "base_uri": "https://localhost:8080/"
        }
      },
      "execution_count": 74,
      "outputs": [
        {
          "output_type": "stream",
          "name": "stdout",
          "text": [
            "-rw-r--r-- ebdBuilder/ebdBuilder 4815040900 2023-10-15 18:45 ebd_sampling_relSep-2023.txt.gz\n",
            "-rwxr-xr-x ebdBuilder/ebdBuilder       1960 2023-10-15 10:00 BCRCodes.txt\n",
            "-rwxr-xr-x ebdBuilder/ebdBuilder     126957 2023-10-15 10:00 IBACodes.txt\n",
            "-rwxr-xr-x ebdBuilder/ebdBuilder      39670 2023-10-15 10:00 USFWSCodes.txt\n",
            "-rw-r--r-- ebdBuilder/ebdBuilder     431439 2023-10-15 10:00 eBird_Basic_Dataset_Metadata_v1.15.pdf\n",
            "-rwxr-xr-x ebdBuilder/ebdBuilder        103 2023-10-15 10:00 recommended_citation.txt\n",
            "-rwxr-xr-x ebdBuilder/ebdBuilder       6703 2023-10-15 10:00 terms_of_use.txt\n"
          ]
        },
        {
          "output_type": "stream",
          "name": "stderr",
          "text": [
            "  % Total    % Received % Xferd  Average Speed   Time    Time     Time  Current\n",
            "                                 Dload  Upload   Total   Spent    Left  Speed\n",
            "\r  0     0    0     0    0     0      0      0 --:--:-- --:--:-- --:--:--     0\r  0     0    0     0    0     0      0      0 --:--:-- --:--:-- --:--:--     0\r10010624 bytes (10 MB, 9.5 MiB) copied, 1 s, 9.7 MB/s\r  0 4592M    0 27.5M    0     0  19.6M      0  0:03:53  0:00:01  0:03:52 19.6M\r57651200 bytes (58 MB, 55 MiB) copied, 2 s, 28.8 MB/s\r  1 4592M    1 75.4M    0     0  31.1M      0  0:02:27  0:00:02  0:02:25 31.1M\r105046016 bytes (105 MB, 100 MiB) copied, 3 s, 34.8 MB/s\r  2 4592M    2  118M    0     0  34.8M      0  0:02:11  0:00:03  0:02:08 34.8M\r153063424 bytes (153 MB, 146 MiB) copied, 4 s, 38.1 MB/s\r  3 4592M    3  164M    0     0  37.6M      0  0:02:02  0:00:04  0:01:58 37.6M\r199786496 bytes (200 MB, 191 MiB) copied, 5 s, 39.8 MB/s\r  4 4592M    4  208M    0     0  38.6M      0  0:01:58  0:00:05  0:01:53 41.5M\r251236352 bytes (251 MB, 240 MiB) copied, 6 s, 41.5 MB/s\r  5 4592M    5  258M    0     0  40.2M      0  0:01:54  0:00:06  0:01:48 46.0M\r300326912 bytes (300 MB, 286 MiB) copied, 7 s, 42.8 MB/s\r  6 4592M    6  304M    0     0  41.2M      0  0:01:51  0:00:07  0:01:44 46.2M\r349564928 bytes (350 MB, 333 MiB) copied, 8 s, 43.5 MB/s\r  7 4592M    7  351M    0     0  41.8M      0  0:01:49  0:00:08  0:01:41 46.6M\r396734464 bytes (397 MB, 378 MiB) copied, 9 s, 44.1 MB/s\r  8 4592M    8  398M    0     0  42.3M      0  0:01:48  0:00:09  0:01:39 46.3M\r447963136 bytes (448 MB, 427 MiB) copied, 10 s, 44.7 MB/s\r  9 4592M    9  446M    0     0  43.0M      0  0:01:46  0:00:10  0:01:36 47.7M\r499175424 bytes (499 MB, 476 MiB) copied, 11 s, 45.2 MB/s\r 10 4592M   10  493M    0     0  43.3M      0  0:01:46  0:00:11  0:01:35 47.1M\r547184640 bytes (547 MB, 522 MiB) copied, 12 s, 45.5 MB/s\r 11 4592M   11  542M    0     0  43.6M      0  0:01:45  0:00:12  0:01:33 46.9M\r596066304 bytes (596 MB, 568 MiB) copied, 13 s, 45.8 MB/s\r 12 4592M   12  587M    0     0  43.8M      0  0:01:44  0:00:13  0:01:31 47.2M\r645435392 bytes (645 MB, 616 MiB) copied, 14 s, 45.9 MB/s\r 13 4592M   13  633M    0     0  43.9M      0  0:01:44  0:00:14  0:01:30 47.1M\r694128640 bytes (694 MB, 662 MiB) copied, 15 s, 46.2 MB/s\r 14 4592M   14  682M    0     0  44.2M      0  0:01:43  0:00:15  0:01:28 46.9M\r742715392 bytes (743 MB, 708 MiB) copied, 16 s, 46.4 MB/s\r 15 4592M   15  726M    0     0  44.1M      0  0:01:43  0:00:16  0:01:27 46.1M\r786911232 bytes (787 MB, 750 MiB) copied, 17 s, 46.2 MB/s\r 16 4592M   16  768M    0     0  44.2M      0  0:01:43  0:00:17  0:01:26 45.7M\r838156288 bytes (838 MB, 799 MiB) copied, 18 s, 46.4 MB/s\r 17 4592M   17  816M    0     0  44.3M      0  0:01:43  0:00:18  0:01:25 45.8M\r885727232 bytes (886 MB, 845 MiB) copied, 19 s, 46.6 MB/s\r 18 4592M   18  866M    0     0  44.6M      0  0:01:42  0:00:19  0:01:23 46.7M\r937754624 bytes (938 MB, 894 MiB) copied, 20 s, 46.8 MB/s\r 19 4592M   19  912M    0     0  44.7M      0  0:01:42  0:00:20  0:01:22 46.2M\r987402240 bytes (987 MB, 942 MiB) copied, 21 s, 47.0 MB/s\r 20 4592M   20  961M    0     0  44.8M      0  0:01:42  0:00:21  0:01:21 47.2M\r1037942784 bytes (1.0 GB, 990 MiB) copied, 22 s, 47.2 MB/s\r 21 4592M   21 1007M    0     0  45.0M      0  0:01:42  0:00:22  0:01:20 47.7M\r1090383872 bytes (1.1 GB, 1.0 GiB) copied, 23 s, 47.3 MB/s\r 23 4592M   23 1057M    0     0  45.2M      0  0:01:41  0:00:23  0:01:18 48.3M\r1137987584 bytes (1.1 GB, 1.1 GiB) copied, 24 s, 47.4 MB/s\r 24 4592M   24 1105M    0     0  45.2M      0  0:01:41  0:00:24  0:01:17 47.4M\r1187188736 bytes (1.2 GB, 1.1 GiB) copied, 25 s, 47.4 MB/s\r 25 4592M   25 1149M    0     0  45.2M      0  0:01:41  0:00:25  0:01:16 47.4M\r1237618688 bytes (1.2 GB, 1.2 GiB) copied, 26 s, 47.5 MB/s\r 26 4592M   26 1197M    0     0  45.3M      0  0:01:41  0:00:26  0:01:15 47.2M\r1284034560 bytes (1.3 GB, 1.2 GiB) copied, 27 s, 47.6 MB/s\r 27 4592M   27 1245M    0     0  45.3M      0  0:01:41  0:00:27  0:01:14 47.0M\r1334706176 bytes (1.3 GB, 1.2 GiB) copied, 28 s, 47.7 MB/s\r 28 4592M   28 1292M    0     0  45.5M      0  0:01:40  0:00:28  0:01:12 46.8M\r1384321024 bytes (1.4 GB, 1.3 GiB) copied, 29 s, 47.6 MB/s\r 29 4592M   29 1335M    0     0  45.4M      0  0:01:41  0:00:29  0:01:12 46.3M\r1428828160 bytes (1.4 GB, 1.3 GiB) copied, 30 s, 47.6 MB/s\r 30 4592M   30 1381M    0     0  45.4M      0  0:01:41  0:00:30  0:01:11 46.2M\r1476235264 bytes (1.5 GB, 1.4 GiB) copied, 31 s, 47.6 MB/s\r 31 4592M   31 1429M    0     0  45.4M      0  0:01:41  0:00:31  0:01:10 46.0M\r1528332288 bytes (1.5 GB, 1.4 GiB) copied, 32 s, 47.7 MB/s\r 32 4592M   32 1475M    0     0  45.5M      0  0:01:40  0:00:32  0:01:08 46.3M\r1577205760 bytes (1.6 GB, 1.5 GiB) copied, 33 s, 47.8 MB/s\r 33 4592M   33 1525M    0     0  45.6M      0  0:01:40  0:00:33  0:01:07 46.2M\r1630064640 bytes (1.6 GB, 1.5 GiB) copied, 34 s, 47.9 MB/s\r 34 4592M   34 1573M    0     0  45.7M      0  0:01:40  0:00:34  0:01:06 47.6M\r1680609280 bytes (1.7 GB, 1.6 GiB) copied, 35 s, 48.0 MB/s\r 35 4592M   35 1620M    0     0  45.7M      0  0:01:40  0:00:35  0:01:05 47.8M\r1728851968 bytes (1.7 GB, 1.6 GiB) copied, 36 s, 48.0 MB/s\r 36 4592M   36 1667M    0     0  45.8M      0  0:01:40  0:00:36  0:01:04 48.2M\r1780178944 bytes (1.8 GB, 1.7 GiB) copied, 37 s, 48.1 MB/s\r 37 4592M   37 1715M    0     0  45.8M      0  0:01:40  0:00:37  0:01:03 47.9M\r1828827136 bytes (1.8 GB, 1.7 GiB) copied, 38 s, 48.1 MB/s\r 38 4592M   38 1765M    0     0  45.9M      0  0:01:40  0:00:38  0:01:02 47.8M\r1879212032 bytes (1.9 GB, 1.8 GiB) copied, 39 s, 48.1 MB/s\r 39 4592M   39 1810M    0     0  45.9M      0  0:01:39  0:00:39  0:01:00 47.3M\r1928003584 bytes (1.9 GB, 1.8 GiB) copied, 40 s, 48.2 MB/s\r 40 4592M   40 1859M    0     0  45.9M      0  0:01:39  0:00:40  0:00:59 47.5M\r1977651200 bytes (2.0 GB, 1.8 GiB) copied, 41 s, 48.2 MB/s\r 41 4592M   41 1904M    0     0  46.0M      0  0:01:39  0:00:41  0:00:58 47.2M\r2023739392 bytes (2.0 GB, 1.9 GiB) copied, 42 s, 48.1 MB/s\r 42 4592M   42 1946M    0     0  45.9M      0  0:01:40  0:00:42  0:00:58 46.2M\r2069008384 bytes (2.1 GB, 1.9 GiB) copied, 43 s, 48.1 MB/s\r 43 4592M   43 1992M    0     0  45.8M      0  0:01:40  0:00:43  0:00:57 45.6M\r2117722112 bytes (2.1 GB, 2.0 GiB) copied, 44 s, 48.1 MB/s\r 44 4592M   44 2038M    0     0  45.8M      0  0:01:40  0:00:44  0:00:56 45.4M\r2167111680 bytes (2.2 GB, 2.0 GiB) copied, 45 s, 48.1 MB/s\r 45 4592M   45 2086M    0     0  45.9M      0  0:01:39  0:00:45  0:00:54 45.7M\r2218565632 bytes (2.2 GB, 2.1 GiB) copied, 46 s, 48.2 MB/s\r 46 4592M   46 2135M    0     0  46.0M      0  0:01:39  0:00:46  0:00:53 45.9M\r2267623424 bytes (2.3 GB, 2.1 GiB) copied, 47 s, 48.2 MB/s\r 47 4592M   47 2182M    0     0  46.0M      0  0:01:39  0:00:47  0:00:52 47.0M\r2316685312 bytes (2.3 GB, 2.2 GiB) copied, 48 s, 48.2 MB/s\r 48 4592M   48 2227M    0     0  46.0M      0  0:01:39  0:00:48  0:00:51 47.3M\r2366603264 bytes (2.4 GB, 2.2 GiB) copied, 49 s, 48.3 MB/s\r 49 4592M   49 2276M    0     0  46.0M      0  0:01:39  0:00:49  0:00:50 47.5M\r2415923200 bytes (2.4 GB, 2.3 GiB) copied, 50 s, 48.3 MB/s\r 50 4592M   50 2323M    0     0  46.0M      0  0:01:39  0:00:50  0:00:49 47.2M\r2464980992 bytes (2.5 GB, 2.3 GiB) copied, 51 s, 48.3 MB/s\r 51 4592M   51 2369M    0     0  46.1M      0  0:01:39  0:00:51  0:00:48 47.0M\r2516176896 bytes (2.5 GB, 2.3 GiB) copied, 52 s, 48.3 MB/s\r 52 4592M   52 2417M    0     0  46.1M      0  0:01:39  0:00:52  0:00:47 47.0M\r2564792320 bytes (2.6 GB, 2.4 GiB) copied, 53 s, 48.4 MB/s\r 53 4592M   53 2465M    0     0  46.1M      0  0:01:39  0:00:53  0:00:46 47.5M\r2614128640 bytes (2.6 GB, 2.4 GiB) copied, 54 s, 48.4 MB/s\r 54 4592M   54 2512M    0     0  46.1M      0  0:01:39  0:00:54  0:00:45 47.2M\r2663436288 bytes (2.7 GB, 2.5 GiB) copied, 55 s, 48.4 MB/s\r 55 4592M   55 2558M    0     0  46.1M      0  0:01:39  0:00:55  0:00:44 46.9M\r2709131264 bytes (2.7 GB, 2.5 GiB) copied, 56 s, 48.4 MB/s\r 56 4592M   56 2602M    0     0  46.1M      0  0:01:39  0:00:56  0:00:43 46.3M\r2757255168 bytes (2.8 GB, 2.6 GiB) copied, 57 s, 48.4 MB/s\r 57 4592M   57 2647M    0     0  46.1M      0  0:01:39  0:00:57  0:00:42 46.1M\r2807799808 bytes (2.8 GB, 2.6 GiB) copied, 58 s, 48.4 MB/s\r 58 4592M   58 2695M    0     0  46.1M      0  0:01:39  0:00:58  0:00:41 45.7M\r2854211584 bytes (2.9 GB, 2.7 GiB) copied, 59 s, 48.4 MB/s\r 59 4592M   59 2742M    0     0  46.1M      0  0:01:39  0:00:59  0:00:40 46.2M\r2904788992 bytes (2.9 GB, 2.7 GiB) copied, 60 s, 48.4 MB/s\r 60 4592M   60 2788M    0     0  46.1M      0  0:01:39  0:01:00  0:00:39 46.2M\r2952540160 bytes (3.0 GB, 2.7 GiB) copied, 61 s, 48.4 MB/s\r 61 4592M   61 2837M    0     0  46.1M      0  0:01:39  0:01:01  0:00:38 46.7M\r3003199488 bytes (3.0 GB, 2.8 GiB) copied, 62 s, 48.4 MB/s\r 62 4592M   62 2883M    0     0  46.2M      0  0:01:39  0:01:02  0:00:37 47.0M\r3053383680 bytes (3.1 GB, 2.8 GiB) copied, 63 s, 48.4 MB/s\r 63 4592M   63 2929M    0     0  46.2M      0  0:01:39  0:01:03  0:00:36 46.9M\r3100352512 bytes (3.1 GB, 2.9 GiB) copied, 64 s, 48.4 MB/s\r 64 4592M   64 2978M    0     0  46.2M      0  0:01:39  0:01:04  0:00:35 46.8M\r3152564224 bytes (3.2 GB, 2.9 GiB) copied, 65 s, 48.5 MB/s\r 65 4592M   65 3025M    0     0  46.2M      0  0:01:39  0:01:05  0:00:34 47.3M\r3203530752 bytes (3.2 GB, 3.0 GiB) copied, 66 s, 48.5 MB/s\r 66 4592M   66 3072M    0     0  46.2M      0  0:01:39  0:01:06  0:00:33 47.3M\r3251425280 bytes (3.3 GB, 3.0 GiB) copied, 67 s, 48.5 MB/s\r 67 4592M   67 3116M    0     0  46.2M      0  0:01:39  0:01:07  0:00:32 46.6M\r3296227328 bytes (3.3 GB, 3.1 GiB) copied, 68 s, 48.5 MB/s\r 68 4592M   68 3161M    0     0  46.2M      0  0:01:39  0:01:08  0:00:31 46.5M\r3342917632 bytes (3.3 GB, 3.1 GiB) copied, 69 s, 48.4 MB/s\r 69 4592M   69 3206M    0     0  46.1M      0  0:01:39  0:01:09  0:00:30 45.4M\r3389313024 bytes (3.4 GB, 3.2 GiB) copied, 70 s, 48.4 MB/s\r 70 4592M   70 3250M    0     0  46.1M      0  0:01:39  0:01:10  0:00:29 45.1M\r3438702592 bytes (3.4 GB, 3.2 GiB) copied, 71 s, 48.4 MB/s\r 71 4592M   71 3297M    0     0  46.1M      0  0:01:39  0:01:11  0:00:28 45.0M\r3487887360 bytes (3.5 GB, 3.2 GiB) copied, 72 s, 48.4 MB/s\r 72 4592M   72 3343M    0     0  46.1M      0  0:01:39  0:01:12  0:00:27 45.3M\r3535134720 bytes (3.5 GB, 3.3 GiB) copied, 73 s, 48.4 MB/s\r 73 4592M   73 3393M    0     0  46.2M      0  0:01:39  0:01:13  0:00:26 45.9M\r3586248704 bytes (3.6 GB, 3.3 GiB) copied, 74 s, 48.4 MB/s\r 74 4592M   74 3437M    0     0  46.2M      0  0:01:39  0:01:14  0:00:25 46.7M\r3637637120 bytes (3.6 GB, 3.4 GiB) copied, 75 s, 48.5 MB/s\r 75 4592M   75 3486M    0     0  46.2M      0  0:01:39  0:01:15  0:00:24 46.8M\r3684003840 bytes (3.7 GB, 3.4 GiB) copied, 76 s, 48.5 MB/s\r 76 4592M   76 3533M    0     0  46.2M      0  0:01:39  0:01:16  0:00:23 46.9M\r3733778432 bytes (3.7 GB, 3.5 GiB) copied, 77 s, 48.5 MB/s\r 78 4592M   78 3582M    0     0  46.2M      0  0:01:39  0:01:17  0:00:22 47.6M\r3785515008 bytes (3.8 GB, 3.5 GiB) copied, 78 s, 48.5 MB/s\r 79 4592M   79 3629M    0     0  46.2M      0  0:01:39  0:01:18  0:00:21 47.6M\r3837100032 bytes (3.8 GB, 3.6 GiB) copied, 79 s, 48.6 MB/s\r 80 4592M   80 3676M    0     0  46.3M      0  0:01:39  0:01:19  0:00:20 47.6M\r3884285952 bytes (3.9 GB, 3.6 GiB) copied, 80 s, 48.6 MB/s\r 81 4592M   81 3721M    0     0  46.2M      0  0:01:39  0:01:20  0:00:19 47.0M\r3930341376 bytes (3.9 GB, 3.7 GiB) copied, 81 s, 48.5 MB/s\r 82 4592M   82 3768M    0     0  46.2M      0  0:01:39  0:01:21  0:00:18 47.1M\r3979612160 bytes (4.0 GB, 3.7 GiB) copied, 82 s, 48.5 MB/s\r 83 4592M   83 3811M    0     0  46.2M      0  0:01:39  0:01:22  0:00:17 46.2M\r4029186048 bytes (4.0 GB, 3.8 GiB) copied, 83 s, 48.5 MB/s\r 84 4592M   84 3860M    0     0  46.2M      0  0:01:39  0:01:23  0:00:16 46.1M\r4077789184 bytes (4.1 GB, 3.8 GiB) copied, 84 s, 48.5 MB/s\r 85 4592M   85 3909M    0     0  46.3M      0  0:01:39  0:01:24  0:00:15 46.5M\r4128612352 bytes (4.1 GB, 3.8 GiB) copied, 85 s, 48.6 MB/s\r 86 4592M   86 3956M    0     0  46.3M      0  0:01:39  0:01:25  0:00:14 47.2M\r4178452480 bytes (4.2 GB, 3.9 GiB) copied, 86 s, 48.6 MB/s\r 87 4592M   87 4005M    0     0  46.3M      0  0:01:39  0:01:26  0:00:13 47.3M\r4230742016 bytes (4.2 GB, 3.9 GiB) copied, 87 s, 48.6 MB/s\r 88 4592M   88 4053M    0     0  46.3M      0  0:01:39  0:01:27  0:00:12 48.3M\r4281544704 bytes (4.3 GB, 4.0 GiB) copied, 88 s, 48.6 MB/s\r 89 4592M   89 4100M    0     0  46.3M      0  0:01:39  0:01:28  0:00:11 47.9M\r4328841216 bytes (4.3 GB, 4.0 GiB) copied, 89 s, 48.6 MB/s\r 90 4592M   90 4149M    0     0  46.3M      0  0:01:38  0:01:29  0:00:09 47.6M\r4379975680 bytes (4.4 GB, 4.1 GiB) copied, 90 s, 48.7 MB/s\r 91 4592M   91 4195M    0     0  46.4M      0  0:01:38  0:01:30  0:00:08 47.7M\r4431036416 bytes (4.4 GB, 4.1 GiB) copied, 91 s, 48.7 MB/s\r 92 4592M   92 4244M    0     0  46.4M      0  0:01:38  0:01:31  0:00:07 48.0M\r4481208320 bytes (4.5 GB, 4.2 GiB) copied, 92 s, 48.7 MB/s\r 93 4592M   93 4292M    0     0  46.4M      0  0:01:38  0:01:32  0:00:06 47.8M\r4531769344 bytes (4.5 GB, 4.2 GiB) copied, 93 s, 48.7 MB/s\r 94 4592M   94 4340M    0     0  46.4M      0  0:01:38  0:01:33  0:00:05 47.8M\r4578390016 bytes (4.6 GB, 4.3 GiB) copied, 94 s, 48.7 MB/s\r 95 4592M   95 4385M    0     0  46.4M      0  0:01:38  0:01:34  0:00:04 47.3M\r4624752640 bytes (4.6 GB, 4.3 GiB) copied, 95 s, 48.7 MB/s\r 96 4592M   96 4428M    0     0  46.4M      0  0:01:38  0:01:35  0:00:03 46.7M\r4675235840 bytes (4.7 GB, 4.4 GiB) copied, 96 s, 48.7 MB/s\r 97 4592M   97 4477M    0     0  46.4M      0  0:01:38  0:01:36  0:00:02 46.4M\r4723785728 bytes (4.7 GB, 4.4 GiB) copied, 97 s, 48.7 MB/s\r 98 4592M   98 4525M    0     0  46.4M      0  0:01:38  0:01:37  0:00:01 46.2M\r4774162432 bytes (4.8 GB, 4.4 GiB) copied, 98 s, 48.7 MB/s\r 99 4592M   99 4571M    0     0  46.4M      0  0:01:38  0:01:38 --:--:-- 46.6M\r100 4592M  100 4592M    0     0  46.4M      0  0:01:38  0:01:38 --:--:-- 46.9M\n",
            "\n",
            "0+337897 records in\n",
            "0+337897 records out\n",
            "4815656960 bytes (4.8 GB, 4.5 GiB) copied, 98.8393 s, 48.7 MB/s\n"
          ]
        }
      ]
    },
    {
      "cell_type": "code",
      "source": [
        "%%bash\n",
        "curl -s https://cnmi-ebird.sfo3.digitaloceanspaces.com/ebd_sampling_relSep-2023.tar |\n",
        "tar -O -xf - ebd_sampling_relSep-2023.txt.gz |\n",
        "dd bs=1M status=progress |\n",
        "gcloud storage cp - gs://c11-ebird/ebd_sampling_relSep-2023.txt.gz\n"
      ],
      "metadata": {
        "id": "ZBWLWpVd27GW",
        "outputId": "ae9a8f71-8dd9-4a22-de74-e8064403e6fc",
        "colab": {
          "base_uri": "https://localhost:8080/"
        }
      },
      "execution_count": 75,
      "outputs": [
        {
          "output_type": "stream",
          "name": "stderr",
          "text": [
            "WARNING: Using sequential instead of parallel task execution to transfer from stdin.\n",
            "Copying file://- to gs://c11-ebird/ebd_sampling_relSep-2023.txt.gz\n",
            "  \n",
            "\r71168 bytes (71 kB, 70 KiB) copied, 4 s, 18.3 kB/s\r136704 bytes (137 kB, 134 KiB) copied, 4 s, 35.1 kB/s\r142848 bytes (143 kB, 140 KiB) copied, 4 s, 36.7 kB/s\r972288 bytes (972 kB, 950 KiB) copied, 4 s, 241 kB/s \r24667648 bytes (25 MB, 24 MiB) copied, 5 s, 4.9 MB/s\r69600768 bytes (70 MB, 66 MiB) copied, 6 s, 11.6 MB/s\r104977920 bytes (105 MB, 100 MiB) copied, 10 s, 11.0 MB/s\r105043456 bytes (105 MB, 100 MiB) copied, 10 s, 11.0 MB/s\r105108992 bytes (105 MB, 100 MiB) copied, 10 s, 11.0 MB/s\r114343424 bytes (114 MB, 109 MiB) copied, 10 s, 11.4 MB/s\r160214528 bytes (160 MB, 153 MiB) copied, 11 s, 14.6 MB/s\r205536768 bytes (206 MB, 196 MiB) copied, 12 s, 17.1 MB/s\r209786368 bytes (210 MB, 200 MiB) copied, 15 s, 13.9 MB/s\r209851904 bytes (210 MB, 200 MiB) copied, 15 s, 13.9 MB/s\r209917440 bytes (210 MB, 200 MiB) copied, 15 s, 14.0 MB/s\r233881088 bytes (234 MB, 223 MiB) copied, 16 s, 14.6 MB/s\r277759488 bytes (278 MB, 265 MiB) copied, 17 s, 16.3 MB/s\r314643968 bytes (315 MB, 300 MiB) copied, 21 s, 15.2 MB/s\r314709504 bytes (315 MB, 300 MiB) copied, 21 s, 15.2 MB/s\r314775040 bytes (315 MB, 300 MiB) copied, 21 s, 15.2 MB/s\r320398848 bytes (320 MB, 306 MiB) copied, 21 s, 15.2 MB/s\r357539328 bytes (358 MB, 341 MiB) copied, 22 s, 16.2 MB/s\r406998528 bytes (407 MB, 388 MiB) copied, 23 s, 17.7 MB/s\r419548672 bytes (420 MB, 400 MiB) copied, 26 s, 16.0 MB/s\r419614208 bytes (420 MB, 400 MiB) copied, 26 s, 16.0 MB/s\r419679744 bytes (420 MB, 400 MiB) copied, 26 s, 16.0 MB/s\r441128448 bytes (441 MB, 421 MiB) copied, 27 s, 16.3 MB/s\r486061568 bytes (486 MB, 464 MiB) copied, 28 s, 17.4 MB/s\r524369408 bytes (524 MB, 500 MiB) copied, 32 s, 16.4 MB/s\r524434944 bytes (524 MB, 500 MiB) copied, 32 s, 16.4 MB/s\r524500480 bytes (525 MB, 500 MiB) copied, 32 s, 16.4 MB/s\r529653248 bytes (530 MB, 505 MiB) copied, 32 s, 16.6 MB/s\r558099968 bytes (558 MB, 532 MiB) copied, 33 s, 16.9 MB/s\r606873088 bytes (607 MB, 579 MiB) copied, 34 s, 17.8 MB/s\r629216768 bytes (629 MB, 600 MiB) copied, 37 s, 16.9 MB/s\r629282304 bytes (629 MB, 600 MiB) copied, 37 s, 16.9 MB/s\r629347840 bytes (629 MB, 600 MiB) copied, 37 s, 16.9 MB/s\r651478528 bytes (651 MB, 621 MiB) copied, 38 s, 17.1 MB/s\r697097728 bytes (697 MB, 665 MiB) copied, 39 s, 17.9 MB/s\r734094848 bytes (734 MB, 700 MiB) copied, 43 s, 17.2 MB/s\r734160384 bytes (734 MB, 700 MiB) copied, 43 s, 17.2 MB/s\r734225920 bytes (734 MB, 700 MiB) copied, 43 s, 17.2 MB/s\r739706368 bytes (740 MB, 705 MiB) copied, 43 s, 17.2 MB/s\r777707008 bytes (778 MB, 742 MiB) copied, 44 s, 17.7 MB/s\r827616768 bytes (828 MB, 789 MiB) copied, 45 s, 18.4 MB/s\r838931968 bytes (839 MB, 800 MiB) copied, 48 s, 17.4 MB/s\r838997504 bytes (839 MB, 800 MiB) copied, 48 s, 17.4 MB/s\r839063040 bytes (839 MB, 800 MiB) copied, 48 s, 17.4 MB/s\r864491008 bytes (864 MB, 824 MiB) copied, 49 s, 17.6 MB/s\r912045568 bytes (912 MB, 870 MiB) copied, 50 s, 18.2 MB/s\r943789568 bytes (944 MB, 900 MiB) copied, 54 s, 17.6 MB/s\r943855104 bytes (944 MB, 900 MiB) copied, 54 s, 17.6 MB/s\r943920640 bytes (944 MB, 900 MiB) copied, 54 s, 17.6 MB/s\r951008768 bytes (951 MB, 907 MiB) copied, 54 s, 17.6 MB/s\r990852608 bytes (991 MB, 945 MiB) copied, 55 s, 18.0 MB/s\r1036676608 bytes (1.0 GB, 989 MiB) copied, 56 s, 18.5 MB/s\r1048647168 bytes (1.0 GB, 1000 MiB) copied, 59 s, 17.7 MB/s\r1048712704 bytes (1.0 GB, 1000 MiB) copied, 59 s, 17.7 MB/s\r1048778240 bytes (1.0 GB, 1000 MiB) copied, 59 s, 17.7 MB/s\r1074195968 bytes (1.1 GB, 1.0 GiB) copied, 60 s, 17.9 MB/s \r1123419648 bytes (1.1 GB, 1.0 GiB) copied, 61 s, 18.4 MB/s\r1153504768 bytes (1.2 GB, 1.1 GiB) copied, 64 s, 17.9 MB/s\r1153570304 bytes (1.2 GB, 1.1 GiB) copied, 64 s, 17.9 MB/s\r1153635840 bytes (1.2 GB, 1.1 GiB) copied, 64 s, 17.9 MB/s\r1162966528 bytes (1.2 GB, 1.1 GiB) copied, 65 s, 17.9 MB/s\r1210562048 bytes (1.2 GB, 1.1 GiB) copied, 66 s, 18.3 MB/s\r1256027648 bytes (1.3 GB, 1.2 GiB) copied, 67 s, 18.7 MB/s\r1258362368 bytes (1.3 GB, 1.2 GiB) copied, 70 s, 17.9 MB/s\r1258427904 bytes (1.3 GB, 1.2 GiB) copied, 70 s, 17.9 MB/s\r1258493440 bytes (1.3 GB, 1.2 GiB) copied, 70 s, 17.9 MB/s\r1272841728 bytes (1.3 GB, 1.2 GiB) copied, 71 s, 17.9 MB/s\r1323140608 bytes (1.3 GB, 1.2 GiB) copied, 72 s, 18.4 MB/s\r1363219968 bytes (1.4 GB, 1.3 GiB) copied, 76 s, 18.0 MB/s\r1363285504 bytes (1.4 GB, 1.3 GiB) copied, 76 s, 18.0 MB/s\r1363351040 bytes (1.4 GB, 1.3 GiB) copied, 76 s, 18.0 MB/s\r1369527808 bytes (1.4 GB, 1.3 GiB) copied, 76 s, 18.0 MB/s\r1414399488 bytes (1.4 GB, 1.3 GiB) copied, 77 s, 18.4 MB/s\r1465947648 bytes (1.5 GB, 1.4 GiB) copied, 78 s, 18.8 MB/s\r1468077568 bytes (1.5 GB, 1.4 GiB) copied, 81 s, 18.1 MB/s\r1468143104 bytes (1.5 GB, 1.4 GiB) copied, 81 s, 18.1 MB/s\r1473371648 bytes (1.5 GB, 1.4 GiB) copied, 81 s, 18.2 MB/s\r1505893888 bytes (1.5 GB, 1.4 GiB) copied, 82 s, 18.4 MB/s\r1551738368 bytes (1.6 GB, 1.4 GiB) copied, 83 s, 18.7 MB/s\r1572935168 bytes (1.6 GB, 1.5 GiB) copied, 86 s, 18.2 MB/s\r1573000704 bytes (1.6 GB, 1.5 GiB) copied, 86 s, 18.2 MB/s\r1573066240 bytes (1.6 GB, 1.5 GiB) copied, 86 s, 18.2 MB/s\r1591162368 bytes (1.6 GB, 1.5 GiB) copied, 87 s, 18.3 MB/s\r1640928768 bytes (1.6 GB, 1.5 GiB) copied, 88 s, 18.6 MB/s\r1677792768 bytes (1.7 GB, 1.6 GiB) copied, 92 s, 18.3 MB/s\r1677858304 bytes (1.7 GB, 1.6 GiB) copied, 92 s, 18.3 MB/s\r1677923840 bytes (1.7 GB, 1.6 GiB) copied, 92 s, 18.3 MB/s\r1686916608 bytes (1.7 GB, 1.6 GiB) copied, 92 s, 18.3 MB/s\r1731972608 bytes (1.7 GB, 1.6 GiB) copied, 93 s, 18.6 MB/s\r1778636288 bytes (1.8 GB, 1.7 GiB) copied, 94 s, 18.9 MB/s\r1782650368 bytes (1.8 GB, 1.7 GiB) copied, 97 s, 18.4 MB/s\r1782715904 bytes (1.8 GB, 1.7 GiB) copied, 97 s, 18.4 MB/s\r1782781440 bytes (1.8 GB, 1.7 GiB) copied, 97 s, 18.4 MB/s\r1807984128 bytes (1.8 GB, 1.7 GiB) copied, 98 s, 18.4 MB/s\r1854340608 bytes (1.9 GB, 1.7 GiB) copied, 99 s, 18.7 MB/s\r1887546880 bytes (1.9 GB, 1.8 GiB) copied, 103 s, 18.4 MB/s\r1887612416 bytes (1.9 GB, 1.8 GiB) copied, 103 s, 18.4 MB/s\r1887677952 bytes (1.9 GB, 1.8 GiB) copied, 103 s, 18.4 MB/s\r1896959488 bytes (1.9 GB, 1.8 GiB) copied, 103 s, 18.4 MB/s\r1945476608 bytes (1.9 GB, 1.8 GiB) copied, 104 s, 18.7 MB/s\r1992365568 bytes (2.0 GB, 1.9 GiB) copied, 108 s, 18.4 MB/s\r1992431104 bytes (2.0 GB, 1.9 GiB) copied, 108 s, 18.4 MB/s\r1992496640 bytes (2.0 GB, 1.9 GiB) copied, 108 s, 18.4 MB/s\r1992560128 bytes (2.0 GB, 1.9 GiB) copied, 108 s, 18.4 MB/s\r2010224128 bytes (2.0 GB, 1.9 GiB) copied, 109 s, 18.4 MB/s\r2058997248 bytes (2.1 GB, 1.9 GiB) copied, 110 s, 18.7 MB/s\r2097278464 bytes (2.1 GB, 2.0 GiB) copied, 114 s, 18.4 MB/s\r2097344000 bytes (2.1 GB, 2.0 GiB) copied, 114 s, 18.4 MB/s\r2097346048 bytes (2.1 GB, 2.0 GiB) copied, 114 s, 18.4 MB/s\r2103346688 bytes (2.1 GB, 2.0 GiB) copied, 114 s, 18.4 MB/s\r2146600448 bytes (2.1 GB, 2.0 GiB) copied, 115 s, 18.7 MB/s\r2194451968 bytes (2.2 GB, 2.0 GiB) copied, 116 s, 18.9 MB/s\r2202091008 bytes (2.2 GB, 2.1 GiB) copied, 119 s, 18.5 MB/s\r2202156544 bytes (2.2 GB, 2.1 GiB) copied, 119 s, 18.5 MB/s\r2202222080 bytes (2.2 GB, 2.1 GiB) copied, 119 s, 18.5 MB/s\r2225919488 bytes (2.2 GB, 2.1 GiB) copied, 120 s, 18.5 MB/s\r2270299648 bytes (2.3 GB, 2.1 GiB) copied, 121 s, 18.8 MB/s\r2306938368 bytes (2.3 GB, 2.1 GiB) copied, 125 s, 18.5 MB/s\r2307003904 bytes (2.3 GB, 2.1 GiB) copied, 125 s, 18.5 MB/s\r2307069440 bytes (2.3 GB, 2.1 GiB) copied, 125 s, 18.5 MB/s\r2312601088 bytes (2.3 GB, 2.2 GiB) copied, 125 s, 18.5 MB/s\r2352475648 bytes (2.4 GB, 2.2 GiB) copied, 126 s, 18.7 MB/s\r2400413184 bytes (2.4 GB, 2.2 GiB) copied, 127 s, 18.9 MB/s\r2411851264 bytes (2.4 GB, 2.2 GiB) copied, 130 s, 18.5 MB/s\r2411916800 bytes (2.4 GB, 2.2 GiB) copied, 130 s, 18.5 MB/s\r2411982336 bytes (2.4 GB, 2.2 GiB) copied, 130 s, 18.5 MB/s\r2441338368 bytes (2.4 GB, 2.3 GiB) copied, 131 s, 18.6 MB/s\r2487797248 bytes (2.5 GB, 2.3 GiB) copied, 132 s, 18.8 MB/s\r2516653568 bytes (2.5 GB, 2.3 GiB) copied, 136 s, 18.5 MB/s\r2516719104 bytes (2.5 GB, 2.3 GiB) copied, 136 s, 18.5 MB/s\r2516784640 bytes (2.5 GB, 2.3 GiB) copied, 136 s, 18.5 MB/s\r2521763328 bytes (2.5 GB, 2.3 GiB) copied, 136 s, 18.5 MB/s\r2551500288 bytes (2.6 GB, 2.4 GiB) copied, 137 s, 18.6 MB/s\r2600508928 bytes (2.6 GB, 2.4 GiB) copied, 138 s, 18.8 MB/s\r2621511168 bytes (2.6 GB, 2.4 GiB) copied, 141 s, 18.6 MB/s\r2621576704 bytes (2.6 GB, 2.4 GiB) copied, 141 s, 18.6 MB/s\r2621642240 bytes (2.6 GB, 2.4 GiB) copied, 141 s, 18.6 MB/s\r2642923008 bytes (2.6 GB, 2.5 GiB) copied, 142 s, 18.6 MB/s\r2691122688 bytes (2.7 GB, 2.5 GiB) copied, 143 s, 18.8 MB/s\r2726368768 bytes (2.7 GB, 2.5 GiB) copied, 147 s, 18.6 MB/s\r2726434304 bytes (2.7 GB, 2.5 GiB) copied, 147 s, 18.6 MB/s\r2726499840 bytes (2.7 GB, 2.5 GiB) copied, 147 s, 18.6 MB/s\r2731734528 bytes (2.7 GB, 2.5 GiB) copied, 147 s, 18.6 MB/s\r2763017728 bytes (2.8 GB, 2.6 GiB) copied, 148 s, 18.7 MB/s\r2811821568 bytes (2.8 GB, 2.6 GiB) copied, 149 s, 18.9 MB/s\r2831226368 bytes (2.8 GB, 2.6 GiB) copied, 152 s, 18.6 MB/s\r2831291904 bytes (2.8 GB, 2.6 GiB) copied, 152 s, 18.6 MB/s\r2831357440 bytes (2.8 GB, 2.6 GiB) copied, 152 s, 18.6 MB/s\r2852146688 bytes (2.9 GB, 2.7 GiB) copied, 153 s, 18.6 MB/s\r2901810688 bytes (2.9 GB, 2.7 GiB) copied, 154 s, 18.8 MB/s\r2936108544 bytes (2.9 GB, 2.7 GiB) copied, 158 s, 18.6 MB/s\r2936174080 bytes (2.9 GB, 2.7 GiB) copied, 158 s, 18.6 MB/s\r2936239616 bytes (2.9 GB, 2.7 GiB) copied, 158 s, 18.6 MB/s\r2943118848 bytes (2.9 GB, 2.7 GiB) copied, 158 s, 18.6 MB/s\r2982635008 bytes (3.0 GB, 2.8 GiB) copied, 159 s, 18.8 MB/s\r3025622528 bytes (3.0 GB, 2.8 GiB) copied, 160 s, 18.9 MB/s\r3040941568 bytes (3.0 GB, 2.8 GiB) copied, 163 s, 18.6 MB/s\r3041007104 bytes (3.0 GB, 2.8 GiB) copied, 163 s, 18.6 MB/s\r3041072640 bytes (3.0 GB, 2.8 GiB) copied, 163 s, 18.6 MB/s\r3061267968 bytes (3.1 GB, 2.9 GiB) copied, 164 s, 18.7 MB/s\r3110522368 bytes (3.1 GB, 2.9 GiB) copied, 165 s, 18.8 MB/s\r3145799168 bytes (3.1 GB, 2.9 GiB) copied, 169 s, 18.7 MB/s\r3145864704 bytes (3.1 GB, 2.9 GiB) copied, 169 s, 18.7 MB/s\r3145930240 bytes (3.1 GB, 2.9 GiB) copied, 169 s, 18.7 MB/s\r3153939968 bytes (3.2 GB, 2.9 GiB) copied, 169 s, 18.7 MB/s\r3201639936 bytes (3.2 GB, 3.0 GiB) copied, 170 s, 18.8 MB/s\r3248557568 bytes (3.2 GB, 3.0 GiB) copied, 171 s, 19.0 MB/s\r3250656768 bytes (3.3 GB, 3.0 GiB) copied, 174 s, 18.7 MB/s\r3250722304 bytes (3.3 GB, 3.0 GiB) copied, 174 s, 18.7 MB/s\r3255735808 bytes (3.3 GB, 3.0 GiB) copied, 174 s, 18.7 MB/s\r3280127488 bytes (3.3 GB, 3.1 GiB) copied, 175 s, 18.7 MB/s\r3327958528 bytes (3.3 GB, 3.1 GiB) copied, 176 s, 18.9 MB/s\r3355514368 bytes (3.4 GB, 3.1 GiB) copied, 179 s, 18.7 MB/s\r3355579904 bytes (3.4 GB, 3.1 GiB) copied, 179 s, 18.7 MB/s\r3355645440 bytes (3.4 GB, 3.1 GiB) copied, 179 s, 18.7 MB/s\r3369778688 bytes (3.4 GB, 3.1 GiB) copied, 180 s, 18.7 MB/s\r3416708608 bytes (3.4 GB, 3.2 GiB) copied, 181 s, 18.9 MB/s\r3460371968 bytes (3.5 GB, 3.2 GiB) copied, 185 s, 18.7 MB/s\r3460437504 bytes (3.5 GB, 3.2 GiB) copied, 185 s, 18.7 MB/s\r3460503040 bytes (3.5 GB, 3.2 GiB) copied, 185 s, 18.7 MB/s\r3465348608 bytes (3.5 GB, 3.2 GiB) copied, 185 s, 18.7 MB/s\r3486402048 bytes (3.5 GB, 3.2 GiB) copied, 186 s, 18.7 MB/s\r3530556928 bytes (3.5 GB, 3.3 GiB) copied, 187 s, 18.9 MB/s\r3565229568 bytes (3.6 GB, 3.3 GiB) copied, 191 s, 18.7 MB/s\r3565295104 bytes (3.6 GB, 3.3 GiB) copied, 191 s, 18.7 MB/s\r3565360640 bytes (3.6 GB, 3.3 GiB) copied, 191 s, 18.7 MB/s\r3571578368 bytes (3.6 GB, 3.3 GiB) copied, 191 s, 18.7 MB/s\r3613296128 bytes (3.6 GB, 3.4 GiB) copied, 192 s, 18.8 MB/s\r3661280768 bytes (3.7 GB, 3.4 GiB) copied, 193 s, 19.0 MB/s\r3670087168 bytes (3.7 GB, 3.4 GiB) copied, 196 s, 18.7 MB/s\r3670152704 bytes (3.7 GB, 3.4 GiB) copied, 196 s, 18.7 MB/s\r3670199808 bytes (3.7 GB, 3.4 GiB) copied, 196 s, 18.7 MB/s\r3702240768 bytes (3.7 GB, 3.4 GiB) copied, 197 s, 18.8 MB/s\r3749723648 bytes (3.7 GB, 3.5 GiB) copied, 198 s, 18.9 MB/s\r3774955008 bytes (3.8 GB, 3.5 GiB) copied, 202 s, 18.7 MB/s\r3775020544 bytes (3.8 GB, 3.5 GiB) copied, 202 s, 18.7 MB/s\r3775086080 bytes (3.8 GB, 3.5 GiB) copied, 202 s, 18.7 MB/s\r3781815808 bytes (3.8 GB, 3.5 GiB) copied, 202 s, 18.7 MB/s\r3825059328 bytes (3.8 GB, 3.6 GiB) copied, 203 s, 18.8 MB/s\r3874835968 bytes (3.9 GB, 3.6 GiB) copied, 204 s, 19.0 MB/s\r3879802368 bytes (3.9 GB, 3.6 GiB) copied, 207 s, 18.7 MB/s\r3879867904 bytes (3.9 GB, 3.6 GiB) copied, 207 s, 18.7 MB/s\r3884983808 bytes (3.9 GB, 3.6 GiB) copied, 207 s, 18.8 MB/s\r3910379008 bytes (3.9 GB, 3.6 GiB) copied, 208 s, 18.8 MB/s\r3960647168 bytes (4.0 GB, 3.7 GiB) copied, 209 s, 18.9 MB/s\r3984659968 bytes (4.0 GB, 3.7 GiB) copied, 212 s, 18.8 MB/s\r3984725504 bytes (4.0 GB, 3.7 GiB) copied, 212 s, 18.8 MB/s\r3984791040 bytes (4.0 GB, 3.7 GiB) copied, 212 s, 18.8 MB/s\r3999548928 bytes (4.0 GB, 3.7 GiB) copied, 213 s, 18.8 MB/s\r4045444608 bytes (4.0 GB, 3.8 GiB) copied, 214 s, 18.9 MB/s\r4089517568 bytes (4.1 GB, 3.8 GiB) copied, 217 s, 18.8 MB/s\r4089583104 bytes (4.1 GB, 3.8 GiB) copied, 217 s, 18.8 MB/s\r4089648640 bytes (4.1 GB, 3.8 GiB) copied, 217 s, 18.8 MB/s\r4104130048 bytes (4.1 GB, 3.8 GiB) copied, 218 s, 18.8 MB/s\r4150517248 bytes (4.2 GB, 3.9 GiB) copied, 219 s, 19.0 MB/s\r4194375168 bytes (4.2 GB, 3.9 GiB) copied, 223 s, 18.8 MB/s\r4194440704 bytes (4.2 GB, 3.9 GiB) copied, 223 s, 18.8 MB/s\r4194506240 bytes (4.2 GB, 3.9 GiB) copied, 223 s, 18.8 MB/s\r4199812608 bytes (4.2 GB, 3.9 GiB) copied, 223 s, 18.8 MB/s\r4237997568 bytes (4.2 GB, 3.9 GiB) copied, 224 s, 18.9 MB/s\r4281456128 bytes (4.3 GB, 4.0 GiB) copied, 225 s, 19.0 MB/s\r4299232768 bytes (4.3 GB, 4.0 GiB) copied, 229 s, 18.8 MB/s\r4299298304 bytes (4.3 GB, 4.0 GiB) copied, 229 s, 18.8 MB/s\r4299363840 bytes (4.3 GB, 4.0 GiB) copied, 229 s, 18.8 MB/s\r4304793088 bytes (4.3 GB, 4.0 GiB) copied, 229 s, 18.8 MB/s\r4347135488 bytes (4.3 GB, 4.0 GiB) copied, 230 s, 18.9 MB/s\r4393471488 bytes (4.4 GB, 4.1 GiB) copied, 231 s, 19.0 MB/s\r4404131328 bytes (4.4 GB, 4.1 GiB) copied, 235 s, 18.8 MB/s\r4404196864 bytes (4.4 GB, 4.1 GiB) copied, 235 s, 18.8 MB/s\r4404262400 bytes (4.4 GB, 4.1 GiB) copied, 235 s, 18.8 MB/s\r4409353728 bytes (4.4 GB, 4.1 GiB) copied, 235 s, 18.8 MB/s\r4450180608 bytes (4.5 GB, 4.1 GiB) copied, 236 s, 18.9 MB/s\r4497622528 bytes (4.5 GB, 4.2 GiB) copied, 237 s, 19.0 MB/s\r4508947968 bytes (4.5 GB, 4.2 GiB) copied, 240 s, 18.8 MB/s\r4509013504 bytes (4.5 GB, 4.2 GiB) copied, 240 s, 18.8 MB/s\r4509079040 bytes (4.5 GB, 4.2 GiB) copied, 240 s, 18.8 MB/s\r4523918848 bytes (4.5 GB, 4.2 GiB) copied, 241 s, 18.8 MB/s\r4573326848 bytes (4.6 GB, 4.3 GiB) copied, 242 s, 18.9 MB/s\r4613805568 bytes (4.6 GB, 4.3 GiB) copied, 246 s, 18.8 MB/s\r4613871104 bytes (4.6 GB, 4.3 GiB) copied, 246 s, 18.8 MB/s\r4613936640 bytes (4.6 GB, 4.3 GiB) copied, 246 s, 18.8 MB/s\r4619304448 bytes (4.6 GB, 4.3 GiB) copied, 246 s, 18.8 MB/s\r4652994048 bytes (4.7 GB, 4.3 GiB) copied, 247 s, 18.8 MB/s\r4701808128 bytes (4.7 GB, 4.4 GiB) copied, 248 s, 19.0 MB/s\r4718673408 bytes (4.7 GB, 4.4 GiB) copied, 251 s, 18.8 MB/s\r4718738944 bytes (4.7 GB, 4.4 GiB) copied, 251 s, 18.8 MB/s\r4718804480 bytes (4.7 GB, 4.4 GiB) copied, 251 s, 18.8 MB/s\r4736163328 bytes (4.7 GB, 4.4 GiB) copied, 252 s, 18.8 MB/s\r4780635648 bytes (4.8 GB, 4.5 GiB) copied, 253 s, 18.9 MB/s\n",
            "0+326225 records in\n",
            "0+326225 records out\n",
            "4815040900 bytes (4.8 GB, 4.5 GiB) copied, 253.737 s, 19.0 MB/s\n",
            "..................................................................................................................................................................................................................................................................................................................................................................................................................................................................................................................................................................................................................................................................................................................................................................................................................................................................................................................................................................................................................................................................................................................................................................................................................................................................................................................\n",
            "\n",
            "Average throughput: 18.4MiB/s\n"
          ]
        }
      ]
    },
    {
      "cell_type": "code",
      "source": [
        "!gcloud storage ls -l gs://c11-ebird/"
      ],
      "metadata": {
        "id": "hyDlDgmI4xNo",
        "outputId": "25580fe9-2ce0-4dd1-e461-ec2088088724",
        "colab": {
          "base_uri": "https://localhost:8080/"
        }
      },
      "execution_count": 77,
      "outputs": [
        {
          "output_type": "stream",
          "name": "stdout",
          "text": [
            "    504698  2023-11-21T23:28:26Z  gs://c11-ebird/ebd_US-AL-101_202204_202204_relApr-2022.txt\n",
            "4815040900  2023-11-22T07:20:39Z  gs://c11-ebird/ebd_sampling_relSep-2023.txt.gz\n",
            "TOTAL: 2 objects, 4815545598 bytes (4.48GiB)\n"
          ]
        }
      ]
    },
    {
      "cell_type": "code",
      "source": [
        "%%bash\n",
        "bq --project_id=${GOOGLE_CLOUD_PROJECT} \\\n",
        "  load \\\n",
        "  --source_format=CSV \\\n",
        "  --field_delimiter='\\t' \\\n",
        "  --autodetect \\\n",
        "  --skip_leading_rows=1 \\\n",
        "  ebird.ebd_sampling_relSep_2023 \\\n",
        "  gs://c11-ebird/ebd_sampling_relSep-2023.txt.gz\n"
      ],
      "metadata": {
        "id": "y_otZ2on5_f5",
        "outputId": "cb934b13-7803-4fac-fd31-580f8fb9ab70",
        "colab": {
          "base_uri": "https://localhost:8080/",
          "height": 564
        }
      },
      "execution_count": 78,
      "outputs": [
        {
          "output_type": "stream",
          "name": "stdout",
          "text": [
            "BigQuery error in load operation: Error processing job\n",
            "'default-256400:bqjob_r17564e9819be84cd_0000018bf5eeb6ea_1': Error while reading\n",
            "data, error message: Input CSV files are not splittable and at least one of the\n",
            "files is larger than the maximum allowed size. Size is: 4815040900. Max allowed\n",
            "size is: 4294967296. File: gs://c11-ebird/ebd_sampling_relSep-2023.txt.gz\n"
          ]
        },
        {
          "output_type": "stream",
          "name": "stderr",
          "text": [
            "\rWaiting on bqjob_r17564e9819be84cd_0000018bf5eeb6ea_1 ... (0s) Current status: RUNNING\r                                                                                      \rWaiting on bqjob_r17564e9819be84cd_0000018bf5eeb6ea_1 ... (0s) Current status: DONE   \n"
          ]
        },
        {
          "output_type": "error",
          "ename": "CalledProcessError",
          "evalue": "ignored",
          "traceback": [
            "\u001b[0;31m---------------------------------------------------------------------------\u001b[0m",
            "\u001b[0;31mCalledProcessError\u001b[0m                        Traceback (most recent call last)",
            "\u001b[0;32m<ipython-input-78-0a005353fefa>\u001b[0m in \u001b[0;36m<cell line: 1>\u001b[0;34m()\u001b[0m\n\u001b[0;32m----> 1\u001b[0;31m \u001b[0mget_ipython\u001b[0m\u001b[0;34m(\u001b[0m\u001b[0;34m)\u001b[0m\u001b[0;34m.\u001b[0m\u001b[0mrun_cell_magic\u001b[0m\u001b[0;34m(\u001b[0m\u001b[0;34m'bash'\u001b[0m\u001b[0;34m,\u001b[0m \u001b[0;34m''\u001b[0m\u001b[0;34m,\u001b[0m \u001b[0;34m\"bq --project_id=${GOOGLE_CLOUD_PROJECT} \\\\\\n  load \\\\\\n  --source_format=CSV \\\\\\n  --field_delimiter='\\\\t' \\\\\\n  --autodetect \\\\\\n  --skip_leading_rows=1 \\\\\\n  ebird.ebd_sampling_relSep_2023 \\\\\\n  gs://c11-ebird/ebd_sampling_relSep-2023.txt.gz\\n\"\u001b[0m\u001b[0;34m)\u001b[0m\u001b[0;34m\u001b[0m\u001b[0;34m\u001b[0m\u001b[0m\n\u001b[0m",
            "\u001b[0;32m/usr/local/lib/python3.10/dist-packages/google/colab/_shell.py\u001b[0m in \u001b[0;36mrun_cell_magic\u001b[0;34m(self, magic_name, line, cell)\u001b[0m\n\u001b[1;32m    332\u001b[0m     \u001b[0;32mif\u001b[0m \u001b[0mline\u001b[0m \u001b[0;32mand\u001b[0m \u001b[0;32mnot\u001b[0m \u001b[0mcell\u001b[0m\u001b[0;34m:\u001b[0m\u001b[0;34m\u001b[0m\u001b[0;34m\u001b[0m\u001b[0m\n\u001b[1;32m    333\u001b[0m       \u001b[0mcell\u001b[0m \u001b[0;34m=\u001b[0m \u001b[0;34m' '\u001b[0m\u001b[0;34m\u001b[0m\u001b[0;34m\u001b[0m\u001b[0m\n\u001b[0;32m--> 334\u001b[0;31m     \u001b[0;32mreturn\u001b[0m \u001b[0msuper\u001b[0m\u001b[0;34m(\u001b[0m\u001b[0;34m)\u001b[0m\u001b[0;34m.\u001b[0m\u001b[0mrun_cell_magic\u001b[0m\u001b[0;34m(\u001b[0m\u001b[0mmagic_name\u001b[0m\u001b[0;34m,\u001b[0m \u001b[0mline\u001b[0m\u001b[0;34m,\u001b[0m \u001b[0mcell\u001b[0m\u001b[0;34m)\u001b[0m\u001b[0;34m\u001b[0m\u001b[0;34m\u001b[0m\u001b[0m\n\u001b[0m\u001b[1;32m    335\u001b[0m \u001b[0;34m\u001b[0m\u001b[0m\n\u001b[1;32m    336\u001b[0m \u001b[0;34m\u001b[0m\u001b[0m\n",
            "\u001b[0;32m/usr/local/lib/python3.10/dist-packages/IPython/core/interactiveshell.py\u001b[0m in \u001b[0;36mrun_cell_magic\u001b[0;34m(self, magic_name, line, cell)\u001b[0m\n\u001b[1;32m   2471\u001b[0m             \u001b[0;32mwith\u001b[0m \u001b[0mself\u001b[0m\u001b[0;34m.\u001b[0m\u001b[0mbuiltin_trap\u001b[0m\u001b[0;34m:\u001b[0m\u001b[0;34m\u001b[0m\u001b[0;34m\u001b[0m\u001b[0m\n\u001b[1;32m   2472\u001b[0m                 \u001b[0margs\u001b[0m \u001b[0;34m=\u001b[0m \u001b[0;34m(\u001b[0m\u001b[0mmagic_arg_s\u001b[0m\u001b[0;34m,\u001b[0m \u001b[0mcell\u001b[0m\u001b[0;34m)\u001b[0m\u001b[0;34m\u001b[0m\u001b[0;34m\u001b[0m\u001b[0m\n\u001b[0;32m-> 2473\u001b[0;31m                 \u001b[0mresult\u001b[0m \u001b[0;34m=\u001b[0m \u001b[0mfn\u001b[0m\u001b[0;34m(\u001b[0m\u001b[0;34m*\u001b[0m\u001b[0margs\u001b[0m\u001b[0;34m,\u001b[0m \u001b[0;34m**\u001b[0m\u001b[0mkwargs\u001b[0m\u001b[0;34m)\u001b[0m\u001b[0;34m\u001b[0m\u001b[0;34m\u001b[0m\u001b[0m\n\u001b[0m\u001b[1;32m   2474\u001b[0m             \u001b[0;32mreturn\u001b[0m \u001b[0mresult\u001b[0m\u001b[0;34m\u001b[0m\u001b[0;34m\u001b[0m\u001b[0m\n\u001b[1;32m   2475\u001b[0m \u001b[0;34m\u001b[0m\u001b[0m\n",
            "\u001b[0;32m/usr/local/lib/python3.10/dist-packages/IPython/core/magics/script.py\u001b[0m in \u001b[0;36mnamed_script_magic\u001b[0;34m(line, cell)\u001b[0m\n\u001b[1;32m    140\u001b[0m             \u001b[0;32melse\u001b[0m\u001b[0;34m:\u001b[0m\u001b[0;34m\u001b[0m\u001b[0;34m\u001b[0m\u001b[0m\n\u001b[1;32m    141\u001b[0m                 \u001b[0mline\u001b[0m \u001b[0;34m=\u001b[0m \u001b[0mscript\u001b[0m\u001b[0;34m\u001b[0m\u001b[0;34m\u001b[0m\u001b[0m\n\u001b[0;32m--> 142\u001b[0;31m             \u001b[0;32mreturn\u001b[0m \u001b[0mself\u001b[0m\u001b[0;34m.\u001b[0m\u001b[0mshebang\u001b[0m\u001b[0;34m(\u001b[0m\u001b[0mline\u001b[0m\u001b[0;34m,\u001b[0m \u001b[0mcell\u001b[0m\u001b[0;34m)\u001b[0m\u001b[0;34m\u001b[0m\u001b[0;34m\u001b[0m\u001b[0m\n\u001b[0m\u001b[1;32m    143\u001b[0m \u001b[0;34m\u001b[0m\u001b[0m\n\u001b[1;32m    144\u001b[0m         \u001b[0;31m# write a basic docstring:\u001b[0m\u001b[0;34m\u001b[0m\u001b[0;34m\u001b[0m\u001b[0m\n",
            "\u001b[0;32m<decorator-gen-103>\u001b[0m in \u001b[0;36mshebang\u001b[0;34m(self, line, cell)\u001b[0m\n",
            "\u001b[0;32m/usr/local/lib/python3.10/dist-packages/IPython/core/magic.py\u001b[0m in \u001b[0;36m<lambda>\u001b[0;34m(f, *a, **k)\u001b[0m\n\u001b[1;32m    185\u001b[0m     \u001b[0;31m# but it's overkill for just that one bit of state.\u001b[0m\u001b[0;34m\u001b[0m\u001b[0;34m\u001b[0m\u001b[0m\n\u001b[1;32m    186\u001b[0m     \u001b[0;32mdef\u001b[0m \u001b[0mmagic_deco\u001b[0m\u001b[0;34m(\u001b[0m\u001b[0marg\u001b[0m\u001b[0;34m)\u001b[0m\u001b[0;34m:\u001b[0m\u001b[0;34m\u001b[0m\u001b[0;34m\u001b[0m\u001b[0m\n\u001b[0;32m--> 187\u001b[0;31m         \u001b[0mcall\u001b[0m \u001b[0;34m=\u001b[0m \u001b[0;32mlambda\u001b[0m \u001b[0mf\u001b[0m\u001b[0;34m,\u001b[0m \u001b[0;34m*\u001b[0m\u001b[0ma\u001b[0m\u001b[0;34m,\u001b[0m \u001b[0;34m**\u001b[0m\u001b[0mk\u001b[0m\u001b[0;34m:\u001b[0m \u001b[0mf\u001b[0m\u001b[0;34m(\u001b[0m\u001b[0;34m*\u001b[0m\u001b[0ma\u001b[0m\u001b[0;34m,\u001b[0m \u001b[0;34m**\u001b[0m\u001b[0mk\u001b[0m\u001b[0;34m)\u001b[0m\u001b[0;34m\u001b[0m\u001b[0;34m\u001b[0m\u001b[0m\n\u001b[0m\u001b[1;32m    188\u001b[0m \u001b[0;34m\u001b[0m\u001b[0m\n\u001b[1;32m    189\u001b[0m         \u001b[0;32mif\u001b[0m \u001b[0mcallable\u001b[0m\u001b[0;34m(\u001b[0m\u001b[0marg\u001b[0m\u001b[0;34m)\u001b[0m\u001b[0;34m:\u001b[0m\u001b[0;34m\u001b[0m\u001b[0;34m\u001b[0m\u001b[0m\n",
            "\u001b[0;32m/usr/local/lib/python3.10/dist-packages/IPython/core/magics/script.py\u001b[0m in \u001b[0;36mshebang\u001b[0;34m(self, line, cell)\u001b[0m\n\u001b[1;32m    243\u001b[0m             \u001b[0msys\u001b[0m\u001b[0;34m.\u001b[0m\u001b[0mstderr\u001b[0m\u001b[0;34m.\u001b[0m\u001b[0mflush\u001b[0m\u001b[0;34m(\u001b[0m\u001b[0;34m)\u001b[0m\u001b[0;34m\u001b[0m\u001b[0;34m\u001b[0m\u001b[0m\n\u001b[1;32m    244\u001b[0m         \u001b[0;32mif\u001b[0m \u001b[0margs\u001b[0m\u001b[0;34m.\u001b[0m\u001b[0mraise_error\u001b[0m \u001b[0;32mand\u001b[0m \u001b[0mp\u001b[0m\u001b[0;34m.\u001b[0m\u001b[0mreturncode\u001b[0m\u001b[0;34m!=\u001b[0m\u001b[0;36m0\u001b[0m\u001b[0;34m:\u001b[0m\u001b[0;34m\u001b[0m\u001b[0;34m\u001b[0m\u001b[0m\n\u001b[0;32m--> 245\u001b[0;31m             \u001b[0;32mraise\u001b[0m \u001b[0mCalledProcessError\u001b[0m\u001b[0;34m(\u001b[0m\u001b[0mp\u001b[0m\u001b[0;34m.\u001b[0m\u001b[0mreturncode\u001b[0m\u001b[0;34m,\u001b[0m \u001b[0mcell\u001b[0m\u001b[0;34m,\u001b[0m \u001b[0moutput\u001b[0m\u001b[0;34m=\u001b[0m\u001b[0mout\u001b[0m\u001b[0;34m,\u001b[0m \u001b[0mstderr\u001b[0m\u001b[0;34m=\u001b[0m\u001b[0merr\u001b[0m\u001b[0;34m)\u001b[0m\u001b[0;34m\u001b[0m\u001b[0;34m\u001b[0m\u001b[0m\n\u001b[0m\u001b[1;32m    246\u001b[0m \u001b[0;34m\u001b[0m\u001b[0m\n\u001b[1;32m    247\u001b[0m     \u001b[0;32mdef\u001b[0m \u001b[0m_run_script\u001b[0m\u001b[0;34m(\u001b[0m\u001b[0mself\u001b[0m\u001b[0;34m,\u001b[0m \u001b[0mp\u001b[0m\u001b[0;34m,\u001b[0m \u001b[0mcell\u001b[0m\u001b[0;34m,\u001b[0m \u001b[0mto_close\u001b[0m\u001b[0;34m)\u001b[0m\u001b[0;34m:\u001b[0m\u001b[0;34m\u001b[0m\u001b[0;34m\u001b[0m\u001b[0m\n",
            "\u001b[0;31mCalledProcessError\u001b[0m: Command 'b\"bq --project_id=${GOOGLE_CLOUD_PROJECT} \\\\\\n  load \\\\\\n  --source_format=CSV \\\\\\n  --field_delimiter='\\\\t' \\\\\\n  --autodetect \\\\\\n  --skip_leading_rows=1 \\\\\\n  ebird.ebd_sampling_relSep_2023 \\\\\\n  gs://c11-ebird/ebd_sampling_relSep-2023.txt.gz\\n\"' returned non-zero exit status 1."
          ]
        }
      ]
    }
  ],
  "metadata": {
    "colab": {
      "provenance": [],
      "include_colab_link": true
    },
    "kernelspec": {
      "display_name": "Python 3",
      "name": "python3"
    },
    "language_info": {
      "codemirror_mode": {
        "name": "ipython",
        "version": 3
      },
      "file_extension": ".py",
      "mimetype": "text/x-python",
      "name": "python",
      "nbconvert_exporter": "python",
      "pygments_lexer": "ipython3",
      "version": "3.10.8"
    }
  },
  "nbformat": 4,
  "nbformat_minor": 0
}