{
  "nbformat": 4,
  "nbformat_minor": 0,
  "metadata": {
    "colab": {
      "provenance": [],
      "include_colab_link": true
    },
    "kernelspec": {
      "name": "python3",
      "display_name": "Python 3"
    },
    "language_info": {
      "name": "python"
    }
  },
  "cells": [
    {
      "cell_type": "markdown",
      "metadata": {
        "id": "view-in-github",
        "colab_type": "text"
      },
      "source": [
        "<a href=\"https://colab.research.google.com/github/rwcitek/C11-capstone-project/blob/main/eBird/ebird_sample.ipynb\" target=\"_parent\"><img src=\"https://colab.research.google.com/assets/colab-badge.svg\" alt=\"Open In Colab\"/></a>"
      ]
    },
    {
      "cell_type": "code",
      "execution_count": null,
      "metadata": {
        "id": "LXs6VybegWWS",
        "colab": {
          "base_uri": "https://localhost:8080/"
        },
        "outputId": "c9343c4c-1dfa-42f4-bd57-fea7029df9a4"
      },
      "outputs": [
        {
          "output_type": "stream",
          "name": "stdout",
          "text": [
            "  % Total    % Received % Xferd  Average Speed   Time    Time     Time  Current\n",
            "                                 Dload  Upload   Total   Spent    Left  Speed\n",
            "100  455k  100  455k    0     0   595k      0 --:--:-- --:--:-- --:--:--  595k\n"
          ]
        }
      ],
      "source": [
        "!curl -O 'https://ebird.org/downloads/samples/ebd-datafile-SAMPLE.zip'"
      ]
    },
    {
      "cell_type": "code",
      "source": [
        "ls -la\n"
      ],
      "metadata": {
        "colab": {
          "base_uri": "https://localhost:8080/"
        },
        "id": "4no_aqTRp5hb",
        "outputId": "62fe7801-2f89-41c1-9a46-f55b0c62becb"
      },
      "execution_count": null,
      "outputs": [
        {
          "output_type": "stream",
          "name": "stdout",
          "text": [
            "total 472\n",
            "drwxr-xr-x 1 root root   4096 Nov 20 16:54 \u001b[0m\u001b[01;34m.\u001b[0m/\n",
            "drwxr-xr-x 1 root root   4096 Nov 20 16:50 \u001b[01;34m..\u001b[0m/\n",
            "drwxr-xr-x 4 root root   4096 Nov 16 14:23 \u001b[01;34m.config\u001b[0m/\n",
            "-rw-r--r-- 1 root root 466849 Nov 20 16:54 ebd-datafile-SAMPLE.zip\n",
            "drwxr-xr-x 1 root root   4096 Nov 16 14:27 \u001b[01;34msample_data\u001b[0m/\n"
          ]
        }
      ]
    },
    {
      "cell_type": "code",
      "source": [
        "!unzip -l ebd-datafile-SAMPLE.zip"
      ],
      "metadata": {
        "colab": {
          "base_uri": "https://localhost:8080/"
        },
        "id": "8nvzJ6CHp7AF",
        "outputId": "4e484b96-4c20-4f70-e339-fd3567a8cac4"
      },
      "execution_count": null,
      "outputs": [
        {
          "output_type": "stream",
          "name": "stdout",
          "text": [
            "Archive:  ebd-datafile-SAMPLE.zip\n",
            "  Length      Date    Time    Name\n",
            "---------  ---------- -----   ----\n",
            "        0  2022-06-08 13:11   ebd_US-AL-101_202204_202204_relApr-2022_SAMPLE/\n",
            "      220  2022-06-08 13:11   __MACOSX/._ebd_US-AL-101_202204_202204_relApr-2022_SAMPLE\n",
            "   504698  2022-05-19 17:35   ebd_US-AL-101_202204_202204_relApr-2022_SAMPLE/ebd_US-AL-101_202204_202204_relApr-2022.txt\n",
            "      853  2022-05-19 17:35   __MACOSX/ebd_US-AL-101_202204_202204_relApr-2022_SAMPLE/._ebd_US-AL-101_202204_202204_relApr-2022.txt\n",
            "     6720  2022-06-08 13:08   ebd_US-AL-101_202204_202204_relApr-2022_SAMPLE/terms_of_use.txt\n",
            "     1088  2022-06-08 13:08   __MACOSX/ebd_US-AL-101_202204_202204_relApr-2022_SAMPLE/._terms_of_use.txt\n",
            "     1960  2022-05-19 17:35   ebd_US-AL-101_202204_202204_relApr-2022_SAMPLE/BCRCodes.txt\n",
            "      212  2022-05-19 17:35   __MACOSX/ebd_US-AL-101_202204_202204_relApr-2022_SAMPLE/._BCRCodes.txt\n",
            "   376184  2022-05-19 17:35   ebd_US-AL-101_202204_202204_relApr-2022_SAMPLE/eBird_Basic_Dataset_Metadata_v1.14.pdf\n",
            "      212  2022-05-19 17:35   __MACOSX/ebd_US-AL-101_202204_202204_relApr-2022_SAMPLE/._eBird_Basic_Dataset_Metadata_v1.14.pdf\n",
            "   126957  2022-05-19 17:35   ebd_US-AL-101_202204_202204_relApr-2022_SAMPLE/IBACodes.txt\n",
            "      212  2022-05-19 17:35   __MACOSX/ebd_US-AL-101_202204_202204_relApr-2022_SAMPLE/._IBACodes.txt\n",
            "    39670  2022-05-19 17:35   ebd_US-AL-101_202204_202204_relApr-2022_SAMPLE/USFWSCodes.txt\n",
            "      212  2022-05-19 17:35   __MACOSX/ebd_US-AL-101_202204_202204_relApr-2022_SAMPLE/._USFWSCodes.txt\n",
            "      100  2022-05-19 17:35   ebd_US-AL-101_202204_202204_relApr-2022_SAMPLE/recommended_citation.txt\n",
            "      212  2022-05-19 17:35   __MACOSX/ebd_US-AL-101_202204_202204_relApr-2022_SAMPLE/._recommended_citation.txt\n",
            "---------                     -------\n",
            "  1059510                     16 files\n"
          ]
        }
      ]
    },
    {
      "cell_type": "code",
      "source": [
        "!unzip ebd-datafile-SAMPLE.zip"
      ],
      "metadata": {
        "colab": {
          "base_uri": "https://localhost:8080/"
        },
        "id": "hDtH2NTRp80r",
        "outputId": "cb8c2461-eaee-4680-b659-74cf9a528c12"
      },
      "execution_count": null,
      "outputs": [
        {
          "output_type": "stream",
          "name": "stdout",
          "text": [
            "Archive:  ebd-datafile-SAMPLE.zip\n",
            "   creating: ebd_US-AL-101_202204_202204_relApr-2022_SAMPLE/\n",
            "  inflating: __MACOSX/._ebd_US-AL-101_202204_202204_relApr-2022_SAMPLE  \n",
            "  inflating: ebd_US-AL-101_202204_202204_relApr-2022_SAMPLE/ebd_US-AL-101_202204_202204_relApr-2022.txt  \n",
            "  inflating: __MACOSX/ebd_US-AL-101_202204_202204_relApr-2022_SAMPLE/._ebd_US-AL-101_202204_202204_relApr-2022.txt  \n",
            "  inflating: ebd_US-AL-101_202204_202204_relApr-2022_SAMPLE/terms_of_use.txt  \n",
            "  inflating: __MACOSX/ebd_US-AL-101_202204_202204_relApr-2022_SAMPLE/._terms_of_use.txt  \n",
            "  inflating: ebd_US-AL-101_202204_202204_relApr-2022_SAMPLE/BCRCodes.txt  \n",
            "  inflating: __MACOSX/ebd_US-AL-101_202204_202204_relApr-2022_SAMPLE/._BCRCodes.txt  \n",
            "  inflating: ebd_US-AL-101_202204_202204_relApr-2022_SAMPLE/eBird_Basic_Dataset_Metadata_v1.14.pdf  \n",
            "  inflating: __MACOSX/ebd_US-AL-101_202204_202204_relApr-2022_SAMPLE/._eBird_Basic_Dataset_Metadata_v1.14.pdf  \n",
            "  inflating: ebd_US-AL-101_202204_202204_relApr-2022_SAMPLE/IBACodes.txt  \n",
            "  inflating: __MACOSX/ebd_US-AL-101_202204_202204_relApr-2022_SAMPLE/._IBACodes.txt  \n",
            "  inflating: ebd_US-AL-101_202204_202204_relApr-2022_SAMPLE/USFWSCodes.txt  \n",
            "  inflating: __MACOSX/ebd_US-AL-101_202204_202204_relApr-2022_SAMPLE/._USFWSCodes.txt  \n",
            "  inflating: ebd_US-AL-101_202204_202204_relApr-2022_SAMPLE/recommended_citation.txt  \n",
            "  inflating: __MACOSX/ebd_US-AL-101_202204_202204_relApr-2022_SAMPLE/._recommended_citation.txt  \n"
          ]
        }
      ]
    },
    {
      "cell_type": "code",
      "source": [
        "ls -la"
      ],
      "metadata": {
        "colab": {
          "base_uri": "https://localhost:8080/"
        },
        "id": "jjIQ-je-qdod",
        "outputId": "545d7918-86e5-47c7-9def-611668dcc491"
      },
      "execution_count": null,
      "outputs": [
        {
          "output_type": "stream",
          "name": "stdout",
          "text": [
            "total 480\n",
            "drwxr-xr-x 1 root root   4096 Nov 20 16:56 \u001b[0m\u001b[01;34m.\u001b[0m/\n",
            "drwxr-xr-x 1 root root   4096 Nov 20 16:50 \u001b[01;34m..\u001b[0m/\n",
            "drwxr-xr-x 4 root root   4096 Nov 16 14:23 \u001b[01;34m.config\u001b[0m/\n",
            "-rw-r--r-- 1 root root 466849 Nov 20 16:54 ebd-datafile-SAMPLE.zip\n",
            "drwxr-xr-x 2 root root   4096 Jun  8  2022 \u001b[01;34mebd_US-AL-101_202204_202204_relApr-2022_SAMPLE\u001b[0m/\n",
            "drwxr-xr-x 3 root root   4096 Nov 20 16:56 \u001b[01;34m__MACOSX\u001b[0m/\n",
            "drwxr-xr-x 1 root root   4096 Nov 16 14:27 \u001b[01;34msample_data\u001b[0m/\n"
          ]
        }
      ]
    },
    {
      "cell_type": "code",
      "source": [
        "!rm -rf __MACOSX/"
      ],
      "metadata": {
        "id": "epYhdl4Gqeym"
      },
      "execution_count": null,
      "outputs": []
    },
    {
      "cell_type": "code",
      "source": [
        "!find ebd_US-AL-101_202204_202204_relApr-2022_SAMPLE/\n"
      ],
      "metadata": {
        "colab": {
          "base_uri": "https://localhost:8080/"
        },
        "id": "qjIxoEqNqh2w",
        "outputId": "f66f6ae9-3f56-4a7f-fbf0-9e985c33ae32"
      },
      "execution_count": null,
      "outputs": [
        {
          "output_type": "stream",
          "name": "stdout",
          "text": [
            "ebd_US-AL-101_202204_202204_relApr-2022_SAMPLE/\n",
            "ebd_US-AL-101_202204_202204_relApr-2022_SAMPLE/recommended_citation.txt\n",
            "ebd_US-AL-101_202204_202204_relApr-2022_SAMPLE/eBird_Basic_Dataset_Metadata_v1.14.pdf\n",
            "ebd_US-AL-101_202204_202204_relApr-2022_SAMPLE/BCRCodes.txt\n",
            "ebd_US-AL-101_202204_202204_relApr-2022_SAMPLE/ebd_US-AL-101_202204_202204_relApr-2022.txt\n",
            "ebd_US-AL-101_202204_202204_relApr-2022_SAMPLE/USFWSCodes.txt\n",
            "ebd_US-AL-101_202204_202204_relApr-2022_SAMPLE/terms_of_use.txt\n",
            "ebd_US-AL-101_202204_202204_relApr-2022_SAMPLE/IBACodes.txt\n"
          ]
        }
      ]
    },
    {
      "cell_type": "code",
      "source": [
        "%%bash\n",
        "head -1 ebd_US-AL-101_202204_202204_relApr-2022_SAMPLE/ebd_US-AL-101_202204_202204_relApr-2022.txt |\n",
        "tr '\\t' '\\n' |\n",
        "cat -n\n"
      ],
      "metadata": {
        "colab": {
          "base_uri": "https://localhost:8080/"
        },
        "id": "c_vB2cOqqmdb",
        "outputId": "913422bd-526f-46d0-c092-5d86b217969c"
      },
      "execution_count": null,
      "outputs": [
        {
          "output_type": "stream",
          "name": "stdout",
          "text": [
            "     1\tGLOBAL UNIQUE IDENTIFIER\n",
            "     2\tLAST EDITED DATE\n",
            "     3\tTAXONOMIC ORDER\n",
            "     4\tCATEGORY\n",
            "     5\tTAXON CONCEPT ID\n",
            "     6\tCOMMON NAME\n",
            "     7\tSCIENTIFIC NAME\n",
            "     8\tSUBSPECIES COMMON NAME\n",
            "     9\tSUBSPECIES SCIENTIFIC NAME\n",
            "    10\tEXOTIC CODE\n",
            "    11\tOBSERVATION COUNT\n",
            "    12\tBREEDING CODE\n",
            "    13\tBREEDING CATEGORY\n",
            "    14\tBEHAVIOR CODE\n",
            "    15\tAGE/SEX\n",
            "    16\tCOUNTRY\n",
            "    17\tCOUNTRY CODE\n",
            "    18\tSTATE\n",
            "    19\tSTATE CODE\n",
            "    20\tCOUNTY\n",
            "    21\tCOUNTY CODE\n",
            "    22\tIBA CODE\n",
            "    23\tBCR CODE\n",
            "    24\tUSFWS CODE\n",
            "    25\tATLAS BLOCK\n",
            "    26\tLOCALITY\n",
            "    27\tLOCALITY ID\n",
            "    28\tLOCALITY TYPE\n",
            "    29\tLATITUDE\n",
            "    30\tLONGITUDE\n",
            "    31\tOBSERVATION DATE\n",
            "    32\tTIME OBSERVATIONS STARTED\n",
            "    33\tOBSERVER ID\n",
            "    34\tSAMPLING EVENT IDENTIFIER\n",
            "    35\tPROTOCOL TYPE\n",
            "    36\tPROTOCOL CODE\n",
            "    37\tPROJECT CODE\n",
            "    38\tDURATION MINUTES\n",
            "    39\tEFFORT DISTANCE KM\n",
            "    40\tEFFORT AREA HA\n",
            "    41\tNUMBER OBSERVERS\n",
            "    42\tALL SPECIES REPORTED\n",
            "    43\tGROUP IDENTIFIER\n",
            "    44\tHAS MEDIA\n",
            "    45\tAPPROVED\n",
            "    46\tREVIEWED\n",
            "    47\tREASON\n",
            "    48\tTRIP COMMENTS\n",
            "    49\tSPECIES COMMENTS\n",
            "    50\t\n"
          ]
        }
      ]
    },
    {
      "cell_type": "code",
      "source": [],
      "metadata": {
        "id": "7KSoBvbDq_fA"
      },
      "execution_count": null,
      "outputs": []
    }
  ]
}